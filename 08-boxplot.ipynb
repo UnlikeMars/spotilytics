{
 "cells": [
  {
   "cell_type": "markdown",
   "metadata": {},
   "source": [
    "# Boxplots\n",
    "\n",
    "## Imports\n",
    "\n"
   ]
  },
  {
   "cell_type": "code",
   "execution_count": null,
   "metadata": {
    "pycharm": {
     "name": "#%%\n"
    }
   },
   "outputs": [],
   "source": [
    "!pip install pandas\n",
    "!pip install numpy\n",
    "!pip install jupyter-dash\n",
    "!pip install matplotlib\n",
    "!pip install plotly\n",
    "\n",
    "import pandas as pd\n",
    "import os.path\n"
   ]
  },
  {
   "cell_type": "markdown",
   "metadata": {},
   "source": [
    "Load track features"
   ]
  },
  {
   "cell_type": "code",
   "execution_count": null,
   "metadata": {
    "pycharm": {
     "name": "#%%\n"
    }
   },
   "outputs": [],
   "source": [
    "featureData = pd.read_csv('data/track_features.csv')"
   ]
  },
  {
   "cell_type": "markdown",
   "metadata": {},
   "source": [
    "Function to import data by region group"
   ]
  },
  {
   "cell_type": "code",
   "execution_count": null,
   "metadata": {
    "pycharm": {
     "name": "#%%\n"
    }
   },
   "outputs": [],
   "source": [
    "def load_charts_for_codes(codes):\n",
    "    temp_df = pd.DataFrame()\n",
    "    for code in codes[\"code\"]:\n",
    "        if os.path.isfile(\"data/chart_{}.csv\".format(code.lower())):\n",
    "            temp_df = temp_df.append(pd.read_csv(\"data/chart_{}.csv\".format(code.lower())))\n",
    "    return temp_df"
   ]
  },
  {
   "cell_type": "markdown",
   "metadata": {},
   "source": [
    "Load regional chart data"
   ]
  },
  {
   "cell_type": "code",
   "execution_count": null,
   "metadata": {
    "pycharm": {
     "name": "#%%\n"
    }
   },
   "outputs": [],
   "source": [
    "chartDataDe = pd.read_csv(\"data/chart_de.csv\")\n"
   ]
  },
  {
   "cell_type": "markdown",
   "metadata": {},
   "source": [
    "Function to join chart tracks and track features"
   ]
  },
  {
   "cell_type": "code",
   "execution_count": null,
   "metadata": {
    "pycharm": {
     "name": "#%%\n"
    }
   },
   "outputs": [],
   "source": [
    "def join_chart_features_regions(chart):\n",
    "    info = chart.merge(featureData, left_on='track_id', right_on='track_id')\n",
    "    info = info.groupby(['country', 'date'], as_index=False).mean()\n",
    "    return info\n",
    "\n",
    "def join_chart_features_only(chart):\n",
    "    info = chart.merge(featureData, left_on='track_id', right_on='track_id')\n",
    "    return info\n",
    "\n",
    "\n",
    "def join_chart_features_continents(chart):\n",
    "    info = chart.merge(featureData, left_on='track_id', right_on='track_id')\n",
    "    info = info.groupby('date', as_index=False).mean()\n",
    "    return info"
   ]
  },
  {
   "cell_type": "code",
   "metadata": {
    "pycharm": {
     "name": "#%%\n"
    }
   },
   "source": [
    "newDataDe = join_chart_features_only(chartDataDe)\n",
    "\n"
   ],
   "execution_count": null,
   "outputs": []
  },
  {
   "cell_type": "code",
   "execution_count": null,
   "outputs": [],
   "source": [
    "newDataDeMonthly = newDataDe.copy()\n",
    "newDataDeWeekly = newDataDe.copy()\n",
    "newDataDeWeekly[\"date\"] = newDataDeWeekly[\"date\"].replace(to_replace ='-0[1-7]$', value = '-01', regex = True)\n",
    "newDataDeWeekly[\"date\"] = newDataDeWeekly[\"date\"].replace(to_replace ='-0[8-9]$|-1[0-4]$', value = '-07', regex = True)\n",
    "newDataDeWeekly[\"date\"] = newDataDeWeekly[\"date\"].replace(to_replace ='-1[5-9]$|-2[0-1]$', value = '-14', regex = True)\n",
    "newDataDeWeekly[\"date\"] = newDataDeWeekly[\"date\"].replace(to_replace ='-2[2-9]$|-3[0-1]$', value = '-21', regex = True)\n",
    "\n",
    "\n",
    "newDataDeMonthly[\"date\"] = newDataDeMonthly[\"date\"].replace(to_replace ='-0[1-9]$|-1[0-9]$|-2[0-9]|-3[0-1]', value = '-01', regex = True)"
   ],
   "metadata": {
    "collapsed": false,
    "pycharm": {
     "name": "#%%\n"
    }
   }
  },
  {
   "cell_type": "markdown",
   "source": [
    "##  Weekly Boxplot"
   ],
   "metadata": {
    "collapsed": false
   }
  },
  {
   "cell_type": "code",
   "execution_count": null,
   "outputs": [],
   "source": [
    "import plotly.express as px\n",
    "fig = px.box(newDataDeWeekly, x=\"date\", y=\"valence\", points=False)\n",
    "fig.show()\n",
    "\n",
    "fig = px.box(newDataDeWeekly, x=\"date\", y=\"danceability\", points=False)\n",
    "fig.show()"
   ],
   "metadata": {
    "collapsed": false,
    "pycharm": {
     "name": "#%%\n"
    }
   }
  },
  {
   "cell_type": "markdown",
   "source": [
    "##  Monthly boxplot"
   ],
   "metadata": {
    "collapsed": false
   }
  },
  {
   "cell_type": "code",
   "source": [
    "fig = px.box(newDataDeMonthly, x=\"date\", y=\"valence\", points=False)\n",
    "fig.show()\n",
    "\n",
    "fig = px.box(newDataDeMonthly, x=\"date\", y=\"danceability\", points=False)\n",
    "fig.show()\n"
   ],
   "metadata": {
    "collapsed": false,
    "pycharm": {
     "name": "#%%\n"
    }
   },
   "execution_count": null,
   "outputs": []
  }
 ],
 "metadata": {
  "kernelspec": {
   "display_name": "Python 3",
   "language": "python",
   "name": "python3"
  },
  "language_info": {
   "codemirror_mode": {
    "name": "ipython",
    "version": 3
   },
   "file_extension": ".py",
   "mimetype": "text/x-python",
   "name": "python",
   "nbconvert_exporter": "python",
   "pygments_lexer": "ipython3",
   "version": "3.8.5"
  }
 },
 "nbformat": 4,
 "nbformat_minor": 1
}