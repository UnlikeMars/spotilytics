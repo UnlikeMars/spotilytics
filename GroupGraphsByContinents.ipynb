{
 "metadata": {
  "language_info": {
   "codemirror_mode": {
    "name": "ipython",
    "version": 3
   },
   "file_extension": ".py",
   "mimetype": "text/x-python",
   "name": "python",
   "nbconvert_exporter": "python",
   "pygments_lexer": "ipython3",
   "version": "3.8.6-final"
  },
  "orig_nbformat": 2,
  "kernelspec": {
   "name": "python3",
   "language": "python",
   "display_name": "Python 3"
  }
 },
 "nbformat": 4,
 "nbformat_minor": 2,
 "cells": [
  {
   "cell_type": "markdown",
   "source": [
    "Install dependencies"
   ],
   "metadata": {
    "collapsed": false
   }
  },
  {
   "cell_type": "code",
   "metadata": {
    "pycharm": {
     "name": "#%%\n"
    }
   },
   "source": [
    "!pip install pandas\n",
    "!pip install numpy\n",
    "!pip install jupyter-dash\n",
    "!pip install matplotlib"
   ],
   "execution_count": null,
   "outputs": []
  },
  {
   "cell_type": "markdown",
   "source": [
    "Import requirements"
   ],
   "metadata": {
    "collapsed": false
   }
  },
  {
   "cell_type": "code",
   "execution_count": 13,
   "outputs": [],
   "source": [
    "import pandas as pd\n",
    "import plotly.graph_objects as go\n",
    "import os.path"
   ],
   "metadata": {
    "collapsed": false,
    "pycharm": {
     "name": "#%%\n"
    }
   }
  },
  {
   "source": [
    "# Import chart data"
   ],
   "cell_type": "markdown",
   "metadata": {}
  },
  {
   "cell_type": "markdown",
   "source": [
    "Load global charts and track features"
   ],
   "metadata": {
    "collapsed": false
   }
  },
  {
   "cell_type": "code",
   "execution_count": 14,
   "outputs": [],
   "source": [
    "featureData = pd.read_csv('data/track_features.csv')\n",
    "chartDataGlobal = pd.read_csv('data/chart_global.csv')"
   ],
   "metadata": {
    "collapsed": false,
    "pycharm": {
     "name": "#%%\n"
    }
   }
  },
  {
   "cell_type": "markdown",
   "source": [
    "Function to import data by region group"
   ],
   "metadata": {
    "collapsed": false
   }
  },
  {
   "cell_type": "code",
   "execution_count": 15,
   "outputs": [],
   "source": [
    "def load_charts_for_codes(codes):\n",
    "    temp_df = pd.DataFrame()\n",
    "    for code in codes[\"code\"]:\n",
    "        if os.path.isfile(\"data/chart_{}.csv\".format(code.lower())):\n",
    "            temp_df.append(pd.read_csv(\"data/chart_{}.csv\".format(code.lower())))\n",
    "    return temp_df"
   ],
   "metadata": {
    "collapsed": false,
    "pycharm": {
     "name": "#%%\n"
    }
   }
  },
  {
   "cell_type": "markdown",
   "source": [
    "Load regional chart data"
   ],
   "metadata": {
    "collapsed": false
   }
  },
  {
   "cell_type": "code",
   "execution_count": 21,
   "outputs": [],
   "source": [
    "#Europe\n",
    "codes = pd.read_csv(\"data/EuropeCode.csv\")\n",
    "chartDataEurope = load_charts_for_codes(codes)\n",
    "\n",
    "#Asia\n",
    "codes = pd.read_csv('data/AsiaCode.csv')\n",
    "chartDataAsia = load_charts_for_codes(codes)\n",
    "\n",
    "#NorthAmerica\n",
    "codes = pd.read_csv('data/NorthAmericaCode.csv')\n",
    "chartDataNorthAmerica = load_charts_for_codes(codes)\n",
    "\n",
    "#SouthAmerica\n",
    "# codes = pd.read_csv('data/SouthAmericaCode.csv')\n",
    "# chartDataSouthAmerica = load_charts_for_codes(codes)\n",
    "\n",
    "#Africa\n",
    "codes = pd.read_csv('data/AfricaCode.csv')\n",
    "chartDataAfrica = load_charts_for_codes(codes)\n",
    "\n",
    "#Oceania\n",
    "codes = pd.read_csv('data/OcianiaCode.csv')\n",
    "chartDataOceania = load_charts_for_codes(codes)"
   ],
   "metadata": {
    "collapsed": false,
    "pycharm": {
     "name": "#%%\n"
    }
   }
  },
  {
   "source": [
    "# Merging"
   ],
   "cell_type": "markdown",
   "metadata": {}
  },
  {
   "source": [
    "## create continent charts"
   ],
   "cell_type": "markdown",
   "metadata": {}
  },
  {
   "cell_type": "code",
   "execution_count": null,
   "metadata": {},
   "outputs": [],
   "source": [
    "#Europe \n",
    "# newDataGlobal = chartDataGlobal.merge(featureData, left_on='track_id', right_on='track_id')\n",
    "# newDataGlobal = newDataGlobal.groupby('date').mean()\n",
    "\n",
    "# test1 = pd.read_csv(f'/home/ole/Documents/Coding/Spotilytics/data/chart_de.csv')\n",
    "# test2 = pd.read_csv(f'/home/ole/Documents/Coding/Spotilytics/data/chart_at.csv')\n",
    "\n",
    "# test1.where()\n",
    "\n",
    "# testData = test1.merge(test2, left_on='date', right_on='date')\n",
    "# newtest = newtest.merge(featureData, left_on='track_id', right_on='track_id')\n",
    "# newtest = newtest.groupby('date').mean()\n",
    "\n",
    "\n",
    "\n",
    "#Global\n",
    "newDataGlobal = chartDataGlobal.merge(featureData, left_on='track_id', right_on='track_id')\n",
    "newDataGlobal = newDataGlobal.groupby('date').mean()\n",
    "\n",
    "# europeDurationFigure = go.Figure()\n",
    "# europeDurationFigure.add_trace(go.Scatter(x=newDataGlobal.index, y=newDataGlobal.danceability, mode='lines', name='global'))\n",
    "# europeDurationFigure.add_trace(go.Scatter(x=testData.index, y=testData.danceability, mode='lines', name='Europe'))\n",
    "# europeDurationFigure.show()"
   ]
  },
  {
   "source": [
    "## prepare data of countries"
   ],
   "cell_type": "markdown",
   "metadata": {}
  },
  {
   "cell_type": "markdown",
   "source": [
    "Function to join chart tracks and track features"
   ],
   "metadata": {
    "collapsed": false
   }
  },
  {
   "cell_type": "code",
   "execution_count": 22,
   "outputs": [],
   "source": [
    "def join_chart_features(chart):\n",
    "    temp_df = pd.DataFrame()\n",
    "    for track in chart:\n",
    "        info = track.merge(featureData, left_on='track_id', right_on='track_id')\n",
    "        temp_df.append([track.country, info.groupby('date').mean()])\n",
    "    return temp_df"
   ],
   "metadata": {
    "collapsed": false,
    "pycharm": {
     "name": "#%%\n"
    }
   }
  },
  {
   "cell_type": "markdown",
   "source": [
    "Join features and tracks per region"
   ],
   "metadata": {
    "collapsed": false
   }
  },
  {
   "cell_type": "code",
   "execution_count": 23,
   "outputs": [],
   "source": [
    "newDataEurope = join_chart_features(chartDataEurope)\n",
    "newDataAsia = join_chart_features(chartDataAsia)\n",
    "newDataNorthAmerica = join_chart_features(chartDataNorthAmerica)\n",
    "# newDataSouthAmerica = join_chart_features(chartDataSouthAmerica)\n",
    "newDataAfrica = join_chart_features(chartDataAfrica)\n",
    "newDataOceania = join_chart_features(chartDataOceania)"
   ],
   "metadata": {
    "collapsed": false,
    "pycharm": {
     "name": "#%%\n"
    }
   }
  },
  {
   "cell_type": "code",
   "execution_count": null,
   "metadata": {},
   "outputs": [],
   "source": [
    "# Average continents\n",
    "# for trackInfo in chartDataEurope:"
   ]
  },
  {
   "source": [
    "# Vis with Plotly"
   ],
   "cell_type": "markdown",
   "metadata": {}
  },
  {
   "cell_type": "code",
   "execution_count": null,
   "metadata": {},
   "outputs": [],
   "source": [
    "#danceability\tenergy\tkey\tloudness\tmode\tspeechiness\tacousticness\tinstrumentalness\tliveness\tvalence\ttempo\tduration_ms\ttime_signature"
   ]
  },
  {
   "source": [
    "## Graph Helper Functions"
   ],
   "cell_type": "markdown",
   "metadata": {}
  },
  {
   "cell_type": "code",
   "execution_count": null,
   "metadata": {},
   "outputs": [],
   "source": [
    "def showLineFigure(dataGlobal, dataContinent, featureName, continentName):\n",
    "    newLineFigure = go.Figure()\n",
    "    newLineFigure.add_trace(go.Scatter(x=dataGlobal.index, y=dataGlobal.danceability, mode='lines', name='global'))\n",
    "    for country in dataContinent:\n",
    "        newLineFigure.add_trace(go.Scatter(x=country[1].index, y=country[1].danceability, mode='lines', name=country[0][1]))\n",
    "    newLineFigure.update_layout(\n",
    "        xaxis_title=\"Date\",\n",
    "        yaxis_title=featureName,\n",
    "        legend_title=continentName,\n",
    "    )\n",
    "    newLineFigure.show()\n",
    "\n",
    "# DO NO USE :D It destroys your CPU\n",
    "def showBarFigure(dataGlobal, dataContinent, featureName, continentName):\n",
    "    newBarFigure = go.Figure()\n",
    "    newBarFigure.add_trace(go.Bar(x=dataGlobal.index, y=dataGlobal.danceability, name='global'))\n",
    "    for country in dataContinent:\n",
    "        newBarFigure.add_trace(go.Bar(x=country[1].index, y=country[1].danceability, name=country[0][1]))\n",
    "    newBarFigure.update_layout(\n",
    "        xaxis_title=\"Date\",\n",
    "        yaxis_title=featureName,\n",
    "        legend_title=continentName,\n",
    "    )\n",
    "    newBarFigure.show()"
   ]
  },
  {
   "source": [
    "## danceability"
   ],
   "cell_type": "markdown",
   "metadata": {}
  },
  {
   "cell_type": "code",
   "execution_count": null,
   "metadata": {},
   "outputs": [],
   "source": [
    "showLineFigure(newDataGlobal, newDataEurope, \"danceability\", \"Europe\")\n",
    "showLineFigure(newDataGlobal, newDataAsia, \"danceability\", \"Asia\")\n",
    "showLineFigure(newDataGlobal, newDataNorthAmerica, \"danceability\", \"North America\")\n",
    "# showLineFigure(newDataGlobal, newDataSouthAmerica, \"danceability\", \"South America\")\n",
    "showLineFigure(newDataGlobal, newDataAfrica, \"danceability\", \"Africa\")\n",
    "showLineFigure(newDataGlobal, newDataOceania, \"danceability\", \"Oceania\")"
   ]
  },
  {
   "source": [
    "## energy"
   ],
   "cell_type": "markdown",
   "metadata": {}
  },
  {
   "cell_type": "code",
   "execution_count": null,
   "metadata": {},
   "outputs": [],
   "source": [
    "showLineFigure(newDataGlobal, newDataEurope, \"energy\", \"Europe\")\n",
    "showLineFigure(newDataGlobal, newDataAsia, \"energy\", \"Asia\")\n",
    "showLineFigure(newDataGlobal, newDataNorthAmerica, \"energy\", \"North America\")\n",
    "# showLineFigure(newDataGlobal, newDataSouthAmerica, \"energy\", \"South America\")\n",
    "showLineFigure(newDataGlobal, newDataAfrica, \"energy\", \"Africa\")\n",
    "showLineFigure(newDataGlobal, newDataOceania, \"energy\", \"Oceania\")"
   ]
  },
  {
   "source": [
    "## key"
   ],
   "cell_type": "markdown",
   "metadata": {}
  },
  {
   "cell_type": "code",
   "execution_count": null,
   "metadata": {},
   "outputs": [],
   "source": [
    "showLineFigure(newDataGlobal, newDataEurope, \"key\", \"Europe\")\n",
    "showLineFigure(newDataGlobal, newDataAsia, \"key\", \"Asia\")\n",
    "showLineFigure(newDataGlobal, newDataNorthAmerica, \"key\", \"North America\")\n",
    "# showLineFigure(newDataGlobal, newDataSouthAmerica, \"key\", \"South America\")\n",
    "showLineFigure(newDataGlobal, newDataAfrica, \"key\", \"Africa\")\n",
    "showLineFigure(newDataGlobal, newDataOceania, \"key\", \"Oceania\")"
   ]
  },
  {
   "source": [
    "## loudness"
   ],
   "cell_type": "markdown",
   "metadata": {}
  },
  {
   "cell_type": "code",
   "execution_count": null,
   "metadata": {},
   "outputs": [],
   "source": [
    "showLineFigure(newDataGlobal, newDataEurope, \"loudness\", \"Europe\")\n",
    "showLineFigure(newDataGlobal, newDataAsia, \"loudness\", \"Asia\")\n",
    "showLineFigure(newDataGlobal, newDataNorthAmerica, \"loudness\", \"North America\")\n",
    "# showLineFigure(newDataGlobal, newDataSouthAmerica, \"loudness\", \"South America\")\n",
    "showLineFigure(newDataGlobal, newDataAfrica, \"loudness\", \"Africa\")\n",
    "showLineFigure(newDataGlobal, newDataOceania, \"loudness\", \"Oceania\")"
   ]
  },
  {
   "source": [
    "## mode"
   ],
   "cell_type": "markdown",
   "metadata": {}
  },
  {
   "cell_type": "code",
   "execution_count": null,
   "metadata": {},
   "outputs": [],
   "source": [
    "# europeDurationFigure = go.Figure()\n",
    "# europeDurationFigure.add_trace(go.Scatter(x=newDataGlobal.index, y=newDataGlobal.mode, mode='lines', name='global'))\n",
    "# # for country in newDataEurope:\n",
    "# #     europeDurationFigure.add_trace(go.Scatter(x=country[1].index, y=country[1].mode, mode='lines', name=country[0][1]))\n",
    "# europeDurationFigure.show()"
   ]
  },
  {
   "source": [
    "## speechiness"
   ],
   "cell_type": "markdown",
   "metadata": {}
  },
  {
   "cell_type": "code",
   "execution_count": null,
   "metadata": {},
   "outputs": [],
   "source": [
    "showLineFigure(newDataGlobal, newDataEurope, \"speechiness\", \"Europe\")\n",
    "showLineFigure(newDataGlobal, newDataAsia, \"speechiness\", \"Asia\")\n",
    "showLineFigure(newDataGlobal, newDataNorthAmerica, \"speechiness\", \"North America\")\n",
    "# showLineFigure(newDataGlobal, newDataSouthAmerica, \"speechiness\", \"South America\")\n",
    "showLineFigure(newDataGlobal, newDataAfrica, \"speechiness\", \"Africa\")\n",
    "showLineFigure(newDataGlobal, newDataOceania, \"speechiness\", \"Oceania\")"
   ]
  },
  {
   "source": [
    "## acousticness"
   ],
   "cell_type": "markdown",
   "metadata": {}
  },
  {
   "cell_type": "code",
   "execution_count": null,
   "metadata": {},
   "outputs": [],
   "source": [
    "showLineFigure(newDataGlobal, newDataEurope, \"acousticness\", \"Europe\")\n",
    "showLineFigure(newDataGlobal, newDataAsia, \"acousticness\", \"Asia\")\n",
    "showLineFigure(newDataGlobal, newDataNorthAmerica, \"acousticness\", \"North America\")\n",
    "# showLineFigure(newDataGlobal, newDataSouthAmerica, \"acousticness\", \"South America\")\n",
    "showLineFigure(newDataGlobal, newDataAfrica, \"acousticness\", \"Africa\")\n",
    "showLineFigure(newDataGlobal, newDataOceania, \"acousticness\", \"Oceania\")"
   ]
  },
  {
   "source": [
    "## instrumentalness"
   ],
   "cell_type": "markdown",
   "metadata": {}
  },
  {
   "cell_type": "code",
   "execution_count": null,
   "metadata": {},
   "outputs": [],
   "source": [
    "showLineFigure(newDataGlobal, newDataEurope, \"instrumentalness\", \"Europe\")\n",
    "showLineFigure(newDataGlobal, newDataAsia, \"instrumentalness\", \"Asia\")\n",
    "showLineFigure(newDataGlobal, newDataNorthAmerica, \"instrumentalness\", \"North America\")\n",
    "# showLineFigure(newDataGlobal, newDataSouthAmerica, \"instrumentalness\", \"South America\")\n",
    "showLineFigure(newDataGlobal, newDataAfrica, \"instrumentalness\", \"Africa\")\n",
    "showLineFigure(newDataGlobal, newDataOceania, \"instrumentalness\", \"Oceania\")"
   ]
  },
  {
   "source": [
    "## liveness"
   ],
   "cell_type": "markdown",
   "metadata": {}
  },
  {
   "cell_type": "code",
   "execution_count": null,
   "metadata": {},
   "outputs": [],
   "source": [
    "showLineFigure(newDataGlobal, newDataEurope, \"liveness\", \"Europe\")\n",
    "showLineFigure(newDataGlobal, newDataAsia, \"liveness\", \"Asia\")\n",
    "showLineFigure(newDataGlobal, newDataNorthAmerica, \"liveness\", \"North America\")\n",
    "# showLineFigure(newDataGlobal, newDataSouthAmerica, \"liveness\", \"South America\")\n",
    "showLineFigure(newDataGlobal, newDataAfrica, \"liveness\", \"Africa\")\n",
    "showLineFigure(newDataGlobal, newDataOceania, \"liveness\", \"Oceania\")"
   ]
  },
  {
   "source": [
    "## valence"
   ],
   "cell_type": "markdown",
   "metadata": {}
  },
  {
   "cell_type": "code",
   "execution_count": null,
   "metadata": {},
   "outputs": [],
   "source": [
    "showLineFigure(newDataGlobal, newDataEurope, \"valence\", \"Europe\")\n",
    "showLineFigure(newDataGlobal, newDataAsia, \"valence\", \"Asia\")\n",
    "showLineFigure(newDataGlobal, newDataNorthAmerica, \"valence\", \"North America\")\n",
    "# showLineFigure(newDataGlobal, newDataSouthAmerica, \"valence\", \"South America\")\n",
    "showLineFigure(newDataGlobal, newDataAfrica, \"valence\", \"Africa\")\n",
    "showLineFigure(newDataGlobal, newDataOceania, \"valence\", \"Oceania\")"
   ]
  },
  {
   "source": [
    "## tempo"
   ],
   "cell_type": "markdown",
   "metadata": {}
  },
  {
   "cell_type": "code",
   "execution_count": null,
   "metadata": {},
   "outputs": [],
   "source": [
    "showLineFigure(newDataGlobal, newDataEurope, \"tempo\", \"Europe\")\n",
    "showLineFigure(newDataGlobal, newDataAsia, \"tempo\", \"Asia\")\n",
    "showLineFigure(newDataGlobal, newDataNorthAmerica, \"tempo\", \"North America\")\n",
    "# showLineFigure(newDataGlobal, newDataSouthAmerica, \"tempo\", \"South America\")\n",
    "showLineFigure(newDataGlobal, newDataAfrica, \"tempo\", \"Africa\")\n",
    "showLineFigure(newDataGlobal, newDataOceania, \"tempo\", \"Oceania\")"
   ]
  },
  {
   "source": [
    "## Duration"
   ],
   "cell_type": "markdown",
   "metadata": {}
  },
  {
   "cell_type": "code",
   "execution_count": null,
   "metadata": {},
   "outputs": [],
   "source": [
    "showLineFigure(newDataGlobal, newDataEurope, \"Duration\", \"Europe\")\n",
    "showLineFigure(newDataGlobal, newDataAsia, \"Duration\", \"Asia\")\n",
    "showLineFigure(newDataGlobal, newDataNorthAmerica, \"Duration\", \"North America\")\n",
    "# showLineFigure(newDataGlobal, newDataSouthAmerica, \"Duration\", \"South America\")\n",
    "showLineFigure(newDataGlobal, newDataAfrica, \"Duration\", \"Africa\")\n",
    "showLineFigure(newDataGlobal, newDataOceania, \"Duration\", \"Oceania\")"
   ]
  },
  {
   "source": [
    "## time_signature"
   ],
   "cell_type": "markdown",
   "metadata": {}
  },
  {
   "cell_type": "code",
   "execution_count": null,
   "metadata": {
    "pycharm": {
     "name": "#%%\n"
    }
   },
   "outputs": [],
   "source": [
    "showLineFigure(newDataGlobal, newDataEurope, \"time_signature\", \"Europe\")\n",
    "showLineFigure(newDataGlobal, newDataAsia, \"time_signature\", \"Asia\")\n",
    "showLineFigure(newDataGlobal, newDataNorthAmerica, \"time_signature\", \"North America\")\n",
    "# showLineFigure(newDataGlobal, newDataSouthAmerica, \"time_signature\", \"South America\")\n",
    "showLineFigure(newDataGlobal, newDataAfrica, \"time_signature\", \"Africa\")\n",
    "showLineFigure(newDataGlobal, newDataOceania, \"time_signature\", \"Oceania\")"
   ]
  }
 ]
}