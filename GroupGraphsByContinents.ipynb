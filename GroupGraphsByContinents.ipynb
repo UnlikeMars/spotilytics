{
 "metadata": {
  "language_info": {
   "codemirror_mode": {
    "name": "ipython",
    "version": 3
   },
   "file_extension": ".py",
   "mimetype": "text/x-python",
   "name": "python",
   "nbconvert_exporter": "python",
   "pygments_lexer": "ipython3",
   "version": "3.8.6-final"
  },
  "orig_nbformat": 2,
  "kernelspec": {
   "name": "python3",
   "language": "python",
   "display_name": "Python 3"
  }
 },
 "nbformat": 4,
 "nbformat_minor": 2,
 "cells": [
  {
   "cell_type": "markdown",
   "source": [
    "Install dependencies"
   ],
   "metadata": {
    "collapsed": false
   }
  },
  {
   "cell_type": "code",
   "execution_count": null,
   "outputs": [],
   "source": [
    "!pip install pandas\n",
    "!pip install numpy\n",
    "!pip install jupyter-dash\n",
    "!pip install matplotlib\n",
    "!pip install -U kaleido"
   ],
   "metadata": {
    "collapsed": false,
    "pycharm": {
     "name": "#%%\n"
    }
   }
  },
  {
   "cell_type": "markdown",
   "source": [
    "Import requirements"
   ],
   "metadata": {
    "collapsed": false
   }
  },
  {
   "cell_type": "code",
   "execution_count": null,
   "outputs": [],
   "source": [
    "from IPython.core.display import display\n",
    "import pandas as pd\n",
    "import plotly.graph_objects as go\n",
    "import plotly.io as pio\n",
    "import os.path"
   ],
   "metadata": {
    "collapsed": false,
    "pycharm": {
     "name": "#%%\n"
    }
   }
  },
  {
   "cell_type": "markdown",
   "source": [
    "# Import chart data"
   ],
   "metadata": {
    "collapsed": false
   }
  },
  {
   "cell_type": "markdown",
   "source": [
    "Load global charts and track features"
   ],
   "metadata": {
    "collapsed": false
   }
  },
  {
   "cell_type": "code",
   "execution_count": null,
   "outputs": [],
   "source": [
    "featureData = pd.read_csv('data/track_features.csv')\n",
    "chartDataGlobal = pd.read_csv('data/chart_global.csv')"
   ],
   "metadata": {
    "collapsed": false,
    "pycharm": {
     "name": "#%%\n"
    }
   }
  },
  {
   "cell_type": "markdown",
   "source": [
    "Function to import data by region group"
   ],
   "metadata": {
    "collapsed": false
   }
  },
  {
   "cell_type": "code",
   "execution_count": null,
   "outputs": [],
   "source": [
    "def load_charts_for_codes(codes):\n",
    "    temp_df = pd.DataFrame()\n",
    "    for code in codes[\"code\"]:\n",
    "        if os.path.isfile(\"data/chart_{}.csv\".format(code.lower())):\n",
    "            temp_df = temp_df.append(pd.read_csv(\"data/chart_{}.csv\".format(code.lower())))\n",
    "    return temp_df"
   ],
   "metadata": {
    "collapsed": false,
    "pycharm": {
     "name": "#%%\n"
    }
   }
  },
  {
   "cell_type": "markdown",
   "source": [
    "Load regional chart data"
   ],
   "metadata": {
    "collapsed": false
   }
  },
  {
   "cell_type": "code",
   "execution_count": null,
   "outputs": [],
   "source": [
    "#Europe\n",
    "codes = pd.read_csv(\"data/EuropeCode.csv\")\n",
    "chartDataEurope = load_charts_for_codes(codes)\n",
    "\n",
    "#Asia\n",
    "codes = pd.read_csv('data/AsiaCode.csv')\n",
    "chartDataAsia = load_charts_for_codes(codes)\n",
    "\n",
    "#NorthAmerica\n",
    "codes = pd.read_csv('data/NorthAmericaCode.csv')\n",
    "chartDataNorthAmerica = load_charts_for_codes(codes)\n",
    "\n",
    "#SouthAmerica\n",
    "codes = pd.read_csv('data/SouthAmericaCode.csv')\n",
    "chartDataSouthAmerica = load_charts_for_codes(codes)\n",
    "\n",
    "#Africa\n",
    "codes = pd.read_csv('data/AfricaCode.csv')\n",
    "chartDataAfrica = load_charts_for_codes(codes)\n",
    "\n",
    "#Oceania\n",
    "codes = pd.read_csv('data/OcianiaCode.csv')\n",
    "chartDataOceania = load_charts_for_codes(codes)"
   ],
   "metadata": {
    "collapsed": false,
    "pycharm": {
     "name": "#%%\n"
    }
   }
  },
  {
   "cell_type": "markdown",
   "source": [
    "# Merging"
   ],
   "metadata": {
    "collapsed": false
   }
  },
  {
   "cell_type": "markdown",
   "source": [
    "## prepare data of countries"
   ],
   "metadata": {
    "collapsed": false
   }
  },
  {
   "cell_type": "markdown",
   "source": [
    "Function to join chart tracks and track features"
   ],
   "metadata": {
    "collapsed": false
   }
  },
  {
   "cell_type": "code",
   "execution_count": null,
   "outputs": [],
   "source": [
    "def join_chart_features_regions(chart):\n",
    "    info = chart.merge(featureData, left_on='track_id', right_on='track_id')\n",
    "    info = info.groupby(['country', 'date'], as_index=False).mean()\n",
    "    return info\n",
    "\n",
    "\n",
    "def join_chart_features_continents(chart):\n",
    "    info = chart.merge(featureData, left_on='track_id', right_on='track_id')\n",
    "    info = info.groupby('date', as_index=False).mean()\n",
    "    return info"
   ],
   "metadata": {
    "collapsed": false,
    "pycharm": {
     "name": "#%%\n"
    }
   }
  },
  {
   "cell_type": "markdown",
   "source": [
    "Join features and tracks per region and continent"
   ],
   "metadata": {
    "collapsed": false
   }
  },
  {
   "cell_type": "code",
   "execution_count": null,
   "outputs": [],
   "source": [
    "newDataGlobal = join_chart_features_regions(chartDataGlobal)\n",
    "\n",
    "newDataEurope = join_chart_features_regions(chartDataEurope)\n",
    "newDataAsia = join_chart_features_regions(chartDataAsia)\n",
    "newDataNorthAmerica = join_chart_features_regions(chartDataNorthAmerica)\n",
    "newDataSouthAmerica = join_chart_features_regions(chartDataSouthAmerica)\n",
    "newDataAfrica = join_chart_features_regions(chartDataAfrica)\n",
    "newDataOceania = join_chart_features_regions(chartDataOceania)\n",
    "\n",
    "meanEurope = join_chart_features_continents(chartDataEurope)\n",
    "meanAsia = join_chart_features_continents(chartDataAsia)\n",
    "meanNorthAmerica = join_chart_features_continents(chartDataNorthAmerica)\n",
    "meanSouthAmerica = join_chart_features_continents(chartDataSouthAmerica)\n",
    "meanAfrica = join_chart_features_continents(chartDataAfrica)\n",
    "meanOceania = join_chart_features_continents(chartDataOceania)"
   ],
   "metadata": {
    "collapsed": false,
    "pycharm": {
     "name": "#%%\n"
    }
   }
  },
  {
   "cell_type": "code",
   "execution_count": null,
   "outputs": [],
   "source": [
    "# Average continents\n",
    "# for trackInfo in chartDataEurope:"
   ],
   "metadata": {
    "collapsed": false,
    "pycharm": {
     "name": "#%%\n"
    }
   }
  },
  {
   "cell_type": "markdown",
   "source": [
    "# Vis with Plotly"
   ],
   "metadata": {
    "collapsed": false
   }
  },
  {
   "cell_type": "code",
   "execution_count": null,
   "outputs": [],
   "source": [
    "#danceability\tenergy\tkey\tloudness\tmode\tspeechiness\tacousticness\tinstrumentalness\tliveness\tvalence\ttempo\tduration_ms\ttime_signature"
   ],
   "metadata": {
    "collapsed": false,
    "pycharm": {
     "name": "#%%\n"
    }
   }
  },
  {
   "cell_type": "markdown",
   "source": [
    "## Graph Helper Functions"
   ],
   "metadata": {
    "collapsed": false
   }
  },
  {
   "cell_type": "code",
   "execution_count": 171,
   "outputs": [],
   "source": [
    "def show_line_figure(dataContinent, featureName, continentName):\n",
    "    newLineFigure = go.Figure()\n",
    "    newLineFigure.add_trace(go.Scatter(x=dataContinent.index, y=dataContinent[featureName], mode='lines', name='Global'))\n",
    "    regions = dataContinent['country'].unique()\n",
    "    for region in regions:\n",
    "        region_data = dataContinent.loc[dataContinent['country'] == region]\n",
    "        newLineFigure.add_trace(go.Scatter(x=region_data.date, y=region_data[featureName], mode='lines', name=region))\n",
    "    newLineFigure.update_layout(\n",
    "        xaxis_title=\"Date\",\n",
    "        yaxis_title=featureName,\n",
    "        legend_title=continentName,\n",
    "    )\n",
    "    newLineFigure.show()\n",
    "    pio.write_image(newLineFigure, \"svg/{}-{}.svg\".format(featureName, continentName))\n",
    "\n",
    "def show_line_figure_list(data_dict: {}, featureName):\n",
    "    newLineFigure = go.Figure()\n",
    "    for key in data_dict:\n",
    "        newLineFigure.add_trace(go.Scatter(x=data_dict[key].date, y=data_dict[key][featureName], mode='lines', name=key))\n",
    "    newLineFigure.update_layout(\n",
    "        xaxis_title=\"Date\",\n",
    "        yaxis_title=featureName,\n",
    "        legend_title=\"Continents\",\n",
    "    )\n",
    "    pio.write_image(newLineFigure, \"svg/{}.svg\".format(featureName))\n",
    "    newLineFigure.show()\n"
   ],
   "metadata": {
    "collapsed": false,
    "pycharm": {
     "name": "#%%\n"
    }
   }
  },
  {
   "cell_type": "markdown",
   "source": [
    "Chart per continent"
   ],
   "metadata": {
    "collapsed": false
   }
  },
  {
   "cell_type": "code",
   "execution_count": null,
   "outputs": [],
   "source": [
    "continent_set = {\n",
    "    \"Global\": newDataGlobal,\n",
    "    \"Europe\": meanEurope,\n",
    "    \"Asia\": meanAsia,\n",
    "    \"North America\": meanNorthAmerica,\n",
    "    \"South America\": meanSouthAmerica,\n",
    "    \"Oceania\": meanOceania\n",
    "}\n",
    "\n",
    "feature_list = [\n",
    "    \"danceability\",\n",
    "    \"energy\",\n",
    "    \"key\",\n",
    "    \"loudness\",\n",
    "    \"mode\",\n",
    "    \"speechiness\",\n",
    "    \"acousticness\",\n",
    "    \"instrumentalness\",\n",
    "    \"liveness\",\n",
    "    \"valence\",\n",
    "    \"tempo\",\n",
    "    \"duration_ms\",\n",
    "    \"time_signature\"\n",
    "]\n",
    "\n",
    "for feature in feature_list:\n",
    "    show_line_figure_list(continent_set, feature)"
   ],
   "metadata": {
    "collapsed": false,
    "pycharm": {
     "name": "#%%\n"
    }
   }
  },
  {
   "cell_type": "markdown",
   "source": [
    "Chart per region and feature"
   ],
   "metadata": {
    "collapsed": false
   }
  },
  {
   "cell_type": "code",
   "execution_count": null,
   "outputs": [],
   "source": [
    "feature_data_set = {\n",
    "    \"Europe\": newDataEurope,\n",
    "    \"Asia\": newDataAsia,\n",
    "    \"North America\": newDataNorthAmerica,\n",
    "    \"South America\": newDataSouthAmerica,\n",
    "    \"Oceania\": newDataOceania\n",
    "}\n",
    "\n",
    "for feature in feature_list:\n",
    "    for region in feature_data_set:\n",
    "            show_line_figure(newDataGlobal, feature_data_set[region], feature, region)"
   ],
   "metadata": {
    "collapsed": false,
    "pycharm": {
     "name": "#%%\n"
    }
   }
  }
 ]
}