{
 "metadata": {
  "language_info": {
   "codemirror_mode": {
    "name": "ipython",
    "version": 3
   },
   "file_extension": ".py",
   "mimetype": "text/x-python",
   "name": "python",
   "nbconvert_exporter": "python",
   "pygments_lexer": "ipython3",
   "version": "3.8.6-final"
  },
  "orig_nbformat": 2,
  "kernelspec": {
   "name": "python3",
   "language": "python",
   "display_name": "Python 3"
  }
 },
 "nbformat": 4,
 "nbformat_minor": 2,
 "cells": [
  {
   "cell_type": "markdown",
   "source": [
    "Install dependencies"
   ],
   "metadata": {
    "collapsed": false
   }
  },
  {
   "cell_type": "code",
   "execution_count": null,
   "outputs": [],
   "source": [
    "!pip install pandas\n",
    "!pip install numpy\n",
    "!pip install jupyter-dash\n",
    "!pip install matplotlib\n",
    "!pip install psutil\n",
    "!pip install seaborn"
   ],
   "metadata": {
    "collapsed": false,
    "pycharm": {
     "name": "#%%\n"
    }
   }
  },
  {
   "cell_type": "markdown",
   "source": [
    "Import requirements"
   ],
   "metadata": {
    "collapsed": false
   }
  },
  {
   "cell_type": "code",
   "execution_count": null,
   "outputs": [],
   "source": [
    "import pandas as pd\n",
    "import os.path\n",
    "\n",
    "import seaborn as sns\n",
    "sns.set_palette(\"muted\")\n",
    "sns.set(style=\"ticks\", color_codes=True)"
   ],
   "metadata": {
    "collapsed": false,
    "pycharm": {
     "name": "#%%\n"
    }
   }
  },
  {
   "cell_type": "markdown",
   "source": [
    "# Import chart data"
   ],
   "metadata": {
    "collapsed": false
   }
  },
  {
   "cell_type": "markdown",
   "source": [
    "Load global charts and track features"
   ],
   "metadata": {
    "collapsed": false
   }
  },
  {
   "cell_type": "code",
   "execution_count": null,
   "outputs": [],
   "source": [
    "featureData = pd.read_csv('data/track_features.csv')"
   ],
   "metadata": {
    "collapsed": false,
    "pycharm": {
     "name": "#%%\n"
    }
   }
  },
  {
   "cell_type": "markdown",
   "source": [
    "Function to import data by region group"
   ],
   "metadata": {
    "collapsed": false
   }
  },
  {
   "cell_type": "code",
   "execution_count": null,
   "outputs": [],
   "source": [
    "def load_charts_for_codes(codes):\n",
    "    temp_df = pd.DataFrame()\n",
    "    for code in codes[\"code\"]:\n",
    "        if os.path.isfile(\"data/chart_{}.csv\".format(code.lower())):\n",
    "            temp_df = temp_df.append(pd.read_csv(\"data/chart_{}.csv\".format(code.lower())))\n",
    "    return temp_df"
   ],
   "metadata": {
    "collapsed": false,
    "pycharm": {
     "name": "#%%\n"
    }
   }
  },
  {
   "cell_type": "markdown",
   "source": [
    "Load regional chart data"
   ],
   "metadata": {
    "collapsed": false
   }
  },
  {
   "cell_type": "code",
   "execution_count": null,
   "outputs": [],
   "source": [
    "#Europe\n",
    "codes = pd.read_csv(\"data/EuropeCode.csv\")\n",
    "chartDataEurope = load_charts_for_codes(codes)\n",
    "\n",
    "#Asia\n",
    "codes = pd.read_csv('data/AsiaCode.csv')\n",
    "chartDataAsia = load_charts_for_codes(codes)\n",
    "\n",
    "#NorthAmerica\n",
    "codes = pd.read_csv('data/NorthAmericaCode.csv')\n",
    "chartDataNorthAmerica = load_charts_for_codes(codes)\n",
    "\n",
    "#SouthAmerica\n",
    "codes = pd.read_csv('data/SouthAmericaCode.csv')\n",
    "chartDataSouthAmerica = load_charts_for_codes(codes)\n",
    "\n",
    "#Africa\n",
    "codes = pd.read_csv('data/AfricaCode.csv')\n",
    "chartDataAfrica = load_charts_for_codes(codes)\n",
    "\n",
    "#Oceania\n",
    "codes = pd.read_csv('data/OcianiaCode.csv')\n",
    "chartDataOceania = load_charts_for_codes(codes)"
   ],
   "metadata": {
    "collapsed": false,
    "pycharm": {
     "name": "#%%\n"
    }
   }
  },
  {
   "cell_type": "markdown",
   "source": [
    "# Merging"
   ],
   "metadata": {
    "collapsed": false
   }
  },
  {
   "cell_type": "markdown",
   "source": [
    "## prepare data of countries"
   ],
   "metadata": {
    "collapsed": false
   }
  },
  {
   "cell_type": "markdown",
   "source": [
    "Function to join chart tracks and track features"
   ],
   "metadata": {
    "collapsed": false
   }
  },
  {
   "cell_type": "code",
   "execution_count": null,
   "outputs": [],
   "source": [
    "def join_chart_features_continents(chart):\n",
    "    info = chart.merge(featureData, left_on='track_id', right_on='track_id')\n",
    "    info = info.groupby('date', as_index=False).mean()\n",
    "    return info"
   ],
   "metadata": {
    "collapsed": false,
    "pycharm": {
     "name": "#%%\n"
    }
   }
  },
  {
   "cell_type": "markdown",
   "source": [
    "Join features and tracks per region and continent"
   ],
   "metadata": {
    "collapsed": false
   }
  },
  {
   "cell_type": "code",
   "execution_count": null,
   "outputs": [],
   "source": [
    "meanEurope = join_chart_features_continents(chartDataEurope)\n",
    "meanAsia = join_chart_features_continents(chartDataAsia)\n",
    "meanNorthAmerica = join_chart_features_continents(chartDataNorthAmerica)\n",
    "meanSouthAmerica = join_chart_features_continents(chartDataSouthAmerica)\n",
    "meanOceania = join_chart_features_continents(chartDataOceania)"
   ],
   "metadata": {
    "collapsed": false,
    "pycharm": {
     "name": "#%%\n"
    }
   }
  },
  {
   "cell_type": "markdown",
   "source": [
    "Function to join region data"
   ],
   "metadata": {
    "collapsed": false,
    "pycharm": {
     "name": "#%% md\n"
    }
   }
  },
  {
   "cell_type": "code",
   "execution_count": null,
   "outputs": [],
   "source": [
    "def join_region_data(data, region):\n",
    "    tempDf = data\n",
    "    tempDf[\"region\"] = region\n",
    "    tempDf = tempDf.drop(\"Position\", axis=1)\n",
    "    tempDf = tempDf.drop(\"date\", axis=1)\n",
    "    return tempDf"
   ],
   "metadata": {
    "collapsed": false,
    "pycharm": {
     "name": "#%%\n"
    }
   }
  },
  {
   "cell_type": "code",
   "execution_count": null,
   "outputs": [],
   "source": [
    "frames = [\n",
    "    join_region_data(meanEurope, \"Europe\"),\n",
    "    join_region_data(meanAsia, \"Asia\"),\n",
    "    join_region_data(meanNorthAmerica, \"North America\"),\n",
    "    join_region_data(meanSouthAmerica, \"South America\"),\n",
    "    join_region_data(meanOceania, \"Oceania\")\n",
    "]\n",
    "\n",
    "regionDf = pd.concat(frames)"
   ],
   "metadata": {
    "collapsed": false,
    "pycharm": {
     "name": "#%%\n"
    }
   }
  },
  {
   "cell_type": "code",
   "execution_count": null,
   "outputs": [],
   "source": [
    "temp = pd.DataFrame(list(\n",
    "    zip(\n",
    "        regionDf[\"region\"],\n",
    "        regionDf[\"Streams\"],\n",
    "        regionDf[\"danceability\"],\n",
    "        regionDf[\"energy\"],\n",
    "        regionDf[\"key\"],\n",
    "        regionDf[\"loudness\"],\n",
    "        regionDf[\"mode\"],\n",
    "        regionDf[\"speechiness\"],\n",
    "        regionDf[\"acousticness\"],\n",
    "        regionDf[\"instrumentalness\"],\n",
    "        regionDf[\"liveness\"],\n",
    "        regionDf[\"valence\"],\n",
    "        regionDf[\"tempo\"],\n",
    "        regionDf[\"duration_ms\"],\n",
    "        regionDf[\"time_signature\"]\n",
    "    )),\n",
    "    columns=[\n",
    "        'Region',\n",
    "        \"Streams\",\n",
    "        'Danceability',\n",
    "        'Energy',\n",
    "        'Key',\n",
    "        \"Loudness\",\n",
    "        'Mode',\n",
    "        'Speechiness',\n",
    "        'Acousticness',\n",
    "        'Instrumentalness',\n",
    "        'Liveness',\n",
    "        'Valence',\n",
    "        'Tempo',\n",
    "        'Duration',\n",
    "        'Time'\n",
    "    ]\n",
    ")"
   ],
   "metadata": {
    "collapsed": false,
    "pycharm": {
     "name": "#%%\n"
    }
   }
  },
  {
   "cell_type": "code",
   "execution_count": null,
   "outputs": [],
   "source": [
    "plot = sns.pairplot(temp, hue=\"Region\", palette=\"muted\")\n",
    "plot.savefig(\"output.png\")"
   ],
   "metadata": {
    "collapsed": false,
    "pycharm": {
     "name": "#%%\n"
    }
   }
  }
 ]
}