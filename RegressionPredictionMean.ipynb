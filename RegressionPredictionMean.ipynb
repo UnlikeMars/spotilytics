{
 "metadata": {
  "language_info": {
   "codemirror_mode": {
    "name": "ipython",
    "version": 3
   },
   "file_extension": ".py",
   "mimetype": "text/x-python",
   "name": "python",
   "nbconvert_exporter": "python",
   "pygments_lexer": "ipython3",
   "version": "3.8.6-final"
  },
  "orig_nbformat": 2,
  "kernelspec": {
   "name": "python3",
   "language": "python",
   "display_name": "Python 3"
  }
 },
 "nbformat": 4,
 "nbformat_minor": 2,
 "cells": [
  {
   "cell_type": "markdown",
   "source": [
    "Install dependencies"
   ],
   "metadata": {
    "collapsed": false
   }
  },
  {
   "cell_type": "code",
   "execution_count": null,
   "outputs": [],
   "source": [
    "!pip install pandas\n",
    "!pip install numpy\n",
    "!pip install jupyter-dash\n",
    "!pip install matplotlib\n",
    "!pip install psutil\n",
    "!pip install sklearn\n",
    "!pip install seaborn"
   ],
   "metadata": {
    "collapsed": false,
    "pycharm": {
     "name": "#%%\n"
    }
   }
  },
  {
   "cell_type": "markdown",
   "source": [
    "Import requirements"
   ],
   "metadata": {
    "collapsed": false
   }
  },
  {
   "cell_type": "code",
   "execution_count": null,
   "outputs": [],
   "source": [
    "import pandas as pd\n",
    "import os.path\n",
    "from datetime import date\n",
    "import seaborn as sns\n",
    "sns.set_palette(\"muted\")\n",
    "sns.set(style=\"ticks\", color_codes=True)\n",
    "\n",
    "import matplotlib.pyplot as plt\n",
    "%matplotlib inline\n",
    "\n",
    "from sklearn.metrics import mean_squared_error, r2_score\n",
    "from sklearn.model_selection import train_test_split\n",
    "from sklearn.linear_model import LinearRegression\n",
    "from sklearn.ensemble import RandomForestRegressor"
   ],
   "metadata": {
    "collapsed": false,
    "pycharm": {
     "name": "#%%\n"
    }
   }
  },
  {
   "cell_type": "markdown",
   "source": [
    "Ignore seaborn warnings:"
   ],
   "metadata": {
    "collapsed": false
   }
  },
  {
   "cell_type": "code",
   "execution_count": null,
   "outputs": [],
   "source": [
    "import warnings\n",
    "warnings.filterwarnings(\"ignore\")"
   ],
   "metadata": {
    "collapsed": false,
    "pycharm": {
     "name": "#%%\n"
    }
   }
  },
  {
   "cell_type": "markdown",
   "source": [
    "Define color and markup style definitions:"
   ],
   "metadata": {
    "collapsed": false
   }
  },
  {
   "cell_type": "code",
   "execution_count": null,
   "outputs": [],
   "source": [
    "class color:\n",
    "   PURPLE = '\\033[95m'\n",
    "   CYAN = '\\033[96m'\n",
    "   DARKCYAN = '\\033[36m'\n",
    "   BLUE = '\\033[94m'\n",
    "   GREEN = '\\033[92m'\n",
    "   YELLOW = '\\033[93m'\n",
    "   RED = '\\033[91m'\n",
    "   BOLD = '\\033[1m'\n",
    "   UNDERLINE = '\\033[4m'\n",
    "   END = '\\033[0m'"
   ],
   "metadata": {
    "collapsed": false,
    "pycharm": {
     "name": "#%%\n"
    }
   }
  },
  {
   "cell_type": "markdown",
   "source": [
    "# Import chart data"
   ],
   "metadata": {
    "collapsed": false
   }
  },
  {
   "cell_type": "markdown",
   "source": [
    "Load global charts and track features"
   ],
   "metadata": {
    "collapsed": false
   }
  },
  {
   "cell_type": "code",
   "execution_count": null,
   "outputs": [],
   "source": [
    "featureData = pd.read_csv('data/track_features.csv')"
   ],
   "metadata": {
    "collapsed": false,
    "pycharm": {
     "name": "#%%\n"
    }
   }
  },
  {
   "cell_type": "markdown",
   "source": [
    "Function to import data by region group"
   ],
   "metadata": {
    "collapsed": false
   }
  },
  {
   "cell_type": "code",
   "execution_count": null,
   "outputs": [],
   "source": [
    "def load_charts_for_codes(codes):\n",
    "    temp_df = pd.DataFrame()\n",
    "    for code in codes[\"code\"]:\n",
    "        if os.path.isfile(\"data/chart_{}.csv\".format(code.lower())):\n",
    "            temp_df = temp_df.append(pd.read_csv(\"data/chart_{}.csv\".format(code.lower())))\n",
    "    return temp_df"
   ],
   "metadata": {
    "collapsed": false,
    "pycharm": {
     "name": "#%%\n"
    }
   }
  },
  {
   "cell_type": "markdown",
   "source": [
    "Load regional chart data"
   ],
   "metadata": {
    "collapsed": false
   }
  },
  {
   "cell_type": "code",
   "execution_count": null,
   "outputs": [],
   "source": [
    "#Europe\n",
    "codes = pd.read_csv(\"data/EuropeCode.csv\")\n",
    "chartDataEurope = load_charts_for_codes(codes)\n",
    "\n",
    "#Asia\n",
    "codes = pd.read_csv('data/AsiaCode.csv')\n",
    "chartDataAsia = load_charts_for_codes(codes)\n",
    "\n",
    "#NorthAmerica\n",
    "codes = pd.read_csv('data/NorthAmericaCode.csv')\n",
    "chartDataNorthAmerica = load_charts_for_codes(codes)\n",
    "\n",
    "#SouthAmerica\n",
    "codes = pd.read_csv('data/SouthAmericaCode.csv')\n",
    "chartDataSouthAmerica = load_charts_for_codes(codes)\n",
    "\n",
    "#Africa\n",
    "codes = pd.read_csv('data/AfricaCode.csv')\n",
    "chartDataAfrica = load_charts_for_codes(codes)\n",
    "\n",
    "#Oceania\n",
    "codes = pd.read_csv('data/OcianiaCode.csv')\n",
    "chartDataOceania = load_charts_for_codes(codes)"
   ],
   "metadata": {
    "collapsed": false,
    "pycharm": {
     "name": "#%%\n"
    }
   }
  },
  {
   "cell_type": "markdown",
   "source": [
    "# Merging"
   ],
   "metadata": {
    "collapsed": false
   }
  },
  {
   "cell_type": "markdown",
   "source": [
    "## prepare data of countries"
   ],
   "metadata": {
    "collapsed": false
   }
  },
  {
   "cell_type": "markdown",
   "source": [
    "Function to join chart tracks and track features"
   ],
   "metadata": {
    "collapsed": false
   }
  },
  {
   "cell_type": "code",
   "execution_count": null,
   "outputs": [],
   "source": [
    "def join_chart_features_continents(chart):\n",
    "    info = chart.merge(featureData, left_on='track_id', right_on='track_id')\n",
    "    info = info.groupby('date', as_index=False).mean()\n",
    "    return info"
   ],
   "metadata": {
    "collapsed": false,
    "pycharm": {
     "name": "#%%\n"
    }
   }
  },
  {
   "cell_type": "markdown",
   "source": [
    "Join features and tracks per region and continent"
   ],
   "metadata": {
    "collapsed": false
   }
  },
  {
   "cell_type": "code",
   "execution_count": null,
   "outputs": [],
   "source": [
    "meanEurope = join_chart_features_continents(chartDataEurope)\n",
    "meanAsia = join_chart_features_continents(chartDataAsia)\n",
    "meanNorthAmerica = join_chart_features_continents(chartDataNorthAmerica)\n",
    "meanSouthAmerica = join_chart_features_continents(chartDataSouthAmerica)\n",
    "meanOceania = join_chart_features_continents(chartDataOceania)"
   ],
   "metadata": {
    "collapsed": false,
    "pycharm": {
     "name": "#%%\n"
    }
   }
  },
  {
   "cell_type": "markdown",
   "source": [
    "Function to join region data"
   ],
   "metadata": {
    "collapsed": false,
    "pycharm": {
     "name": "#%% md\n"
    }
   }
  },
  {
   "cell_type": "code",
   "execution_count": null,
   "outputs": [],
   "source": [
    "def join_region_data(data, region):\n",
    "    tempDf = data\n",
    "    tempDf[\"region\"] = region\n",
    "    tempDf = tempDf.drop(\"Position\", axis=1)\n",
    "    # tempDf = tempDf.drop(\"date\", axis=1)\n",
    "    return tempDf"
   ],
   "metadata": {
    "collapsed": false,
    "pycharm": {
     "name": "#%%\n"
    }
   }
  },
  {
   "cell_type": "code",
   "execution_count": null,
   "outputs": [],
   "source": [
    "frames = [\n",
    "    join_region_data(meanEurope, \"Europe\"),\n",
    "    join_region_data(meanAsia, \"Asia\"),\n",
    "    join_region_data(meanNorthAmerica, \"North America\"),\n",
    "    join_region_data(meanSouthAmerica, \"South America\"),\n",
    "    join_region_data(meanOceania, \"Oceania\")\n",
    "]\n",
    "\n",
    "regionDf = pd.concat(frames)\n",
    "print(regionDf)"
   ],
   "metadata": {
    "collapsed": false,
    "pycharm": {
     "name": "#%%\n"
    }
   }
  },
  {
   "cell_type": "code",
   "execution_count": null,
   "outputs": [],
   "source": [
    "modelDataDf = regionDf\n",
    "uniqueRegions = regionDf['region'].unique()\n",
    "regionsDictionary = {}\n",
    "for i in range(len(uniqueRegions)):\n",
    "    regionsDictionary[uniqueRegions[i]] = i\n",
    "modelDataDf['region'] = modelDataDf['region'].map(regionsDictionary).astype(int)\n",
    "# hack to delete the unnamed index column inplace\n",
    "modelDataDf.drop(modelDataDf.filter(regex=\"Unname\"),axis=1, inplace=True)\n",
    "\n",
    "# subselect of > defined date\n",
    "modelDataDf = modelDataDf[pd.to_datetime(modelDataDf['date']) > pd.Timestamp(2020, 8, 30)]\n",
    "modelDataDf = modelDataDf.drop(\"date\", axis=1)\n",
    "modelDataDf = modelDataDf.sample(frac=1)\n",
    "\n",
    "print(modelDataDf)"
   ],
   "metadata": {
    "collapsed": false,
    "pycharm": {
     "name": "#%%\n"
    }
   }
  },
  {
   "cell_type": "markdown",
   "source": [
    "Train linear regression model"
   ],
   "metadata": {
    "collapsed": false,
    "pycharm": {
     "name": "#%% md\n"
    }
   }
  },
  {
   "cell_type": "code",
   "execution_count": null,
   "outputs": [],
   "source": [
    "xi = modelDataDf.drop(labels = ['Streams'], axis = 1)\n",
    "yi = modelDataDf['Streams']\n",
    "xiTrain, xiTest, yiTrain, yiTest = train_test_split(xi, yi, test_size = 0.40)\n",
    "modeliLinear = LinearRegression()\n",
    "modeliLinear.fit(xiTrain, yiTrain)\n",
    "modeliLinearPrediction = modeliLinear.predict(xiTest)\n",
    "\n",
    "print('Linear Regression:')\n",
    "print('Original data mean  = \\t' + str(regionDf['Streams'].mean()))\n",
    "print('Integer model mean = \\t' + str(modeliLinearPrediction.mean()))\n",
    "print('Integer model std = \\t' + str(modeliLinearPrediction.std()))\n",
    "print('R^2 Score = \\t' + str(r2_score(yiTest, modeliLinearPrediction)))"
   ],
   "metadata": {
    "collapsed": false,
    "pycharm": {
     "name": "#%%\n"
    }
   }
  },
  {
   "cell_type": "markdown",
   "source": [
    "Plot linear regression graph"
   ],
   "metadata": {
    "collapsed": false
   }
  },
  {
   "cell_type": "code",
   "execution_count": null,
   "outputs": [],
   "source": [
    "plt.figure(figsize=(12,12))\n",
    "sns.regplot(modeliLinearPrediction, yiTest, label = 'Numeric', marker = '+')\n",
    "plt.title('Linear Regression')\n",
    "plt.ylabel('Streams')\n",
    "plt.xlabel('Predictions')\n",
    "plt.legend()\n",
    "plt.show()"
   ],
   "metadata": {
    "collapsed": false,
    "pycharm": {
     "name": "#%%\n"
    }
   }
  },
  {
   "cell_type": "code",
   "execution_count": null,
   "outputs": [],
   "source": [
    "# modeliLinearPrediction = modeliLinear.predict(xiTest)"
   ],
   "metadata": {
    "collapsed": false,
    "pycharm": {
     "name": "#%%\n"
    }
   }
  }
 ]
}