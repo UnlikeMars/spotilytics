{
 "cells": [
  {
   "cell_type": "markdown",
   "metadata": {},
   "source": [
    "Install dependencies"
   ]
  },
  {
   "cell_type": "code",
   "metadata": {
    "pycharm": {
     "name": "#%%\n"
    }
   },
   "source": [
    "!pip install pandas"
   ],
   "execution_count": null,
   "outputs": []
  },
  {
   "cell_type": "markdown",
   "source": [
    "Import requirements"
   ],
   "metadata": {
    "collapsed": false
   }
  },
  {
   "cell_type": "code",
   "source": [
    "import pandas as pd\n",
    "import requests\n",
    "import io\n",
    "\n",
    "from datetime import date"
   ],
   "metadata": {
    "collapsed": false,
    "pycharm": {
     "name": "#%%\n"
    }
   },
   "execution_count": null,
   "outputs": []
  },
  {
   "cell_type": "markdown",
   "source": [
    "Function to log a line to file"
   ],
   "metadata": {
    "collapsed": false
   }
  },
  {
   "cell_type": "code",
   "source": [
    "def log(line: str):\n",
    "    with open(\"data/note2.txt\", \"a\") as file:\n",
    "        # TODO log date and time\n",
    "        file.write(line + \"\\n\")"
   ],
   "metadata": {
    "collapsed": false,
    "pycharm": {
     "name": "#%%\n"
    }
   },
   "execution_count": null,
   "outputs": []
  },
  {
   "cell_type": "markdown",
   "source": [
    "Function to download files with timeout"
   ],
   "metadata": {
    "collapsed": false
   }
  },
  {
   "cell_type": "code",
   "source": [
    "def do_download(url: str):\n",
    "    try:\n",
    "        # timeout if no data (bytes) are send for 5 seconds\n",
    "        return requests.get(url, timeout=5)\n",
    "    except requests.exceptions.HTTPError:\n",
    "        return None\n",
    "    except requests.exceptions.ConnectionError:\n",
    "        return None\n",
    "    except requests.exceptions.Timeout:\n",
    "        return None\n",
    "    except requests.exceptions.RequestException:\n",
    "        return None"
   ],
   "metadata": {
    "collapsed": false,
    "pycharm": {
     "name": "#%%\n"
    }
   },
   "execution_count": null,
   "outputs": []
  },
  {
   "cell_type": "markdown",
   "source": [
    "Function to convert chart data to pandas dataframe if available"
   ],
   "metadata": {
    "collapsed": false
   }
  },
  {
   "cell_type": "code",
   "metadata": {
    "pycharm": {
     "name": "#%%\n"
    }
   },
   "source": [
    "def process_file(country: str, date: str):\n",
    "    url = \"https://spotifycharts.com/regional/{}/daily/{}/download\".format(country, date)\n",
    "    print(\"Downloading file with region {} with date {}\".format(country, date))\n",
    "\n",
    "    request = do_download(url)\n",
    "    if request is None:\n",
    "        log(\"The server did not send a response for region {} with date {}\".format(country, date))\n",
    "        return pd.DataFrame() # return empty frame\n",
    "\n",
    "    if request.ok:\n",
    "        try:\n",
    "            data = request.content.decode(\"utf8\")\n",
    "            df = pd.read_csv(io.StringIO(data), skiprows=1)\n",
    "            df[\"country\"] = country\n",
    "            df[\"date\"] = date\n",
    "            for index, row in df.iterrows():\n",
    "                df.loc[df.index[index], \"track_id\"] = row[\"URL\"].rsplit('/', 1)[-1]\n",
    "            return df\n",
    "        except pd.errors.ParserError:\n",
    "            log(\"Unable to parse file for region {} with date {}\".format(country, date))\n",
    "            return pd.DataFrame() # return empty frame\n",
    "        except AttributeError:\n",
    "            log(\"Unable to rsplit url for region {} with date {}\".format(country, date))\n",
    "            return pd.DataFrame() # return empty frame\n",
    "    else:\n",
    "        log(\"Unable to download chart for region {} with date {}\".format(country, date))\n",
    "        return pd.DataFrame() # return empty frame"
   ],
   "execution_count": null,
   "outputs": []
  },
  {
   "cell_type": "markdown",
   "source": [
    "Define date range and regions of interest"
   ],
   "metadata": {
    "collapsed": false
   }
  },
  {
   "cell_type": "code",
   "metadata": {
    "pycharm": {
     "name": "#%%\n"
    }
   },
   "source": [
    "dateFrom = date(2017, 1, 1)\n",
    "dateTo = date(2020, 11, 25)\n",
    "regions = [\"global\", \"us\", \"gb\", \"ad\", \"ar\", \"at\", \"au\", \"be\", \"bg\", \"bo\", \"br\", \"ca\", \"ch\", \"cl\",\n",
    "           \"co\", \"cr\", \"cy\", \"cz\", \"de\", \"dk\", \"do\", \"ec\", \"ee\", \"es\", \"fi\", \"fr\", \"gr\", \"gt\",\n",
    "           \"hk\", \"hn\", \"hu\", \"id\", \"ie\", \"il\", \"in\", \"is\", \"it\", \"jp\", \"lt\", \"lu\", \"lv\", \"mx\",\n",
    "           \"my\", \"ni\", \"nl\", \"no\", \"nz\", \"pa\", \"pe\", \"ph\", \"pl\", \"pt\", \"py\", \"ro\", \"ru\", \"se\",\n",
    "           \"sg\", \"sk\", \"sv\", \"th\", \"tr\", \"tw\", \"ua\", \"uy\", \"vn\", \"za\"]\n"
   ],
   "execution_count": null,
   "outputs": []
  },
  {
   "cell_type": "markdown",
   "source": [
    "Main loop"
   ],
   "metadata": {
    "collapsed": false
   }
  },
  {
   "cell_type": "code",
   "source": [
    "dateRange = pd.date_range(dateFrom, dateTo)\n",
    "\n",
    "for region in regions:\n",
    "    bigdata = pd.DataFrame()\n",
    "\n",
    "    for single_date in dateRange:\n",
    "        frame = process_file(region, single_date.strftime(\"%Y-%m-%d\"))\n",
    "        bigdata = pd.concat([bigdata, frame], ignore_index=True, sort=False)\n",
    "\n",
    "    print(\"Region {} size {}\".format(region, bigdata.shape[0]))\n",
    "    bigdata.to_csv(\"data/chart_{}.csv\".format(region))"
   ],
   "metadata": {
    "collapsed": false,
    "pycharm": {
     "name": "#%%\n"
    }
   },
   "execution_count": null,
   "outputs": []
  }
 ],
 "metadata": {
  "kernelspec": {
   "display_name": "Python 3",
   "language": "python",
   "name": "python3"
  },
  "language_info": {
   "codemirror_mode": {
    "name": "ipython",
    "version": 3
   },
   "file_extension": ".py",
   "mimetype": "text/x-python",
   "name": "python",
   "nbconvert_exporter": "python",
   "pygments_lexer": "ipython3",
   "version": "3.6.9"
  }
 },
 "nbformat": 4,
 "nbformat_minor": 2
}