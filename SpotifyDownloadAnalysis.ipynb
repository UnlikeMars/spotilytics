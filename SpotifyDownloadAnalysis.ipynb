{
 "cells": [
  {
   "cell_type": "markdown",
   "metadata": {
    "collapsed": true,
    "pycharm": {
     "name": "#%% md\n"
    }
   },
   "source": [
    "Install dependencies"
   ]
  },
  {
   "cell_type": "code",
   "execution_count": null,
   "outputs": [],
   "source": [
    "!pip install pandas"
   ],
   "metadata": {
    "collapsed": false,
    "pycharm": {
     "name": "#%%\n"
    }
   }
  },
  {
   "cell_type": "markdown",
   "source": [
    "Import requirements"
   ],
   "metadata": {
    "collapsed": false
   }
  },
  {
   "cell_type": "code",
   "execution_count": 52,
   "outputs": [],
   "source": [
    "import pandas as pd\n",
    "import glob"
   ],
   "metadata": {
    "collapsed": false,
    "pycharm": {
     "name": "#%%\n"
    }
   }
  },
  {
   "cell_type": "code",
   "execution_count": 53,
   "outputs": [
    {
     "name": "stdout",
     "output_type": "stream",
     "text": [
      "15124030\n"
     ]
    }
   ],
   "source": [
    "path = r'data' # use your path\n",
    "all_files = glob.glob(path + \"/*.csv\")\n",
    "\n",
    "li = []\n",
    "\n",
    "for filename in all_files:\n",
    "    df = pd.read_csv(filename, index_col=None, header=0)\n",
    "    li.append(df)\n",
    "\n",
    "frame = pd.concat(li, axis=0, ignore_index=True)\n",
    "print(frame.shape[0])"
   ],
   "metadata": {
    "collapsed": false,
    "pycharm": {
     "name": "#%%\n"
    }
   }
  },
  {
   "cell_type": "code",
   "execution_count": 13,
   "outputs": [
    {
     "name": "stdout",
     "output_type": "stream",
     "text": [
      "  Unnamed: 0  Position                   Track Name        Artist   Streams  \\\n",
      "0          0       1.0      Chantaje (feat. Maluma)       Shakira  253019.0   \n",
      "1          1       2.0  Vente Pa' Ca (feat. Maluma)  Ricky Martin  223988.0   \n",
      "2          2       3.0   Reggaetón Lento (Bailemos)          CNCO  210943.0   \n",
      "3          3       4.0                       Safari      J Balvin  173865.0   \n",
      "4          4       5.0                  Shaky Shaky  Daddy Yankee  153956.0   \n",
      "\n",
      "                                                 URL country        date  \\\n",
      "0  https://open.spotify.com/track/6mICuAdrwEjh6Y6...      ar  2017-01-01   \n",
      "1  https://open.spotify.com/track/7DM4BPaS7uofFul...      ar  2017-01-01   \n",
      "2  https://open.spotify.com/track/3AEZUABDXNtecAO...      ar  2017-01-01   \n",
      "3  https://open.spotify.com/track/6rQSrBHf7HlZjtc...      ar  2017-01-01   \n",
      "4  https://open.spotify.com/track/58IL315gMSTD37D...      ar  2017-01-01   \n",
      "\n",
      "                 track_id  \n",
      "0  6mICuAdrwEjh6Y6lroV2Kg  \n",
      "1  7DM4BPaS7uofFul3ywMe46  \n",
      "2  3AEZUABDXNtecAOSC1qTfo  \n",
      "3  6rQSrBHf7HlZjtcMZ4S4bO  \n",
      "4  58IL315gMSTD37DOZPJ2hf  \n",
      "15124030\n"
     ]
    }
   ],
   "source": [
    "print(frame.head())\n",
    "print(frame[\"track_id\"].count())\n"
   ],
   "metadata": {
    "collapsed": false,
    "pycharm": {
     "name": "#%%\n"
    }
   }
  },
  {
   "cell_type": "code",
   "execution_count": 48,
   "outputs": [
    {
     "name": "stdout",
     "output_type": "stream",
     "text": [
      "   country  count\n",
      "0       ch   8303\n",
      "1       tw   8104\n",
      "2       se   7622\n",
      "3       de   7435\n",
      "4       nl   7358\n",
      "..     ...    ...\n",
      "59      in   1798\n",
      "60      ni   1426\n",
      "61      lu    974\n",
      "62      ru    968\n",
      "63      ua    930\n",
      "\n",
      "[64 rows x 2 columns]\n"
     ]
    }
   ],
   "source": [
    "df = frame.groupby('country')['track_id'].nunique()\n",
    "df = df.sort_values(ascending=False).reset_index(name='count')\n",
    "print(df)"
   ],
   "metadata": {
    "collapsed": false,
    "pycharm": {
     "name": "#%%\n"
    }
   }
  },
  {
   "cell_type": "code",
   "execution_count": 22,
   "outputs": [
    {
     "name": "stdout",
     "output_type": "stream",
     "text": [
      "               Track Name  count\n",
      "0                   Intro    102\n",
      "1                   Sorry     30\n",
      "2                   Fuego     26\n",
      "3                Rockstar     26\n",
      "4                 Breathe     25\n",
      "...                   ...    ...\n",
      "68369           Pubiruusu      1\n",
      "68370          Puberbrein      1\n",
      "68371           Pub Crawl      1\n",
      "68372  Puan Bermain Hujan      1\n",
      "68373     혼자 Nobody knows      1\n",
      "\n",
      "[68374 rows x 2 columns]\n"
     ]
    }
   ],
   "source": [
    "da = frame.groupby('Track Name')['track_id'].nunique()\n",
    "da = da.sort_values(ascending=False).reset_index(name='count')\n",
    "print(da)"
   ],
   "metadata": {
    "collapsed": false,
    "pycharm": {
     "name": "#%%\n"
    }
   }
  },
  {
   "cell_type": "code",
   "execution_count": 20,
   "outputs": [
    {
     "name": "stdout",
     "output_type": "stream",
     "text": [
      "                    Artist  count\n",
      "0                      Jul    260\n",
      "1                      BTS    164\n",
      "2                   Future    160\n",
      "3                   Ufo361    156\n",
      "4              Capital Bra    153\n",
      "...                    ...    ...\n",
      "16541        Jugraj Sandhu      1\n",
      "16542            JuggrxDee      1\n",
      "16543  Sólstrandargæjarnir      1\n",
      "16544          Judah Kelly      1\n",
      "16545                  하숙자      1\n",
      "\n",
      "[16546 rows x 2 columns]\n"
     ]
    }
   ],
   "source": [
    "# Artists with most number of unique tracks\n",
    "du = frame.groupby('Artist')['track_id'].nunique()\n",
    "du = du.sort_values(ascending=False).reset_index(name='count')\n",
    "print(du)"
   ],
   "metadata": {
    "collapsed": false,
    "pycharm": {
     "name": "#%%\n"
    }
   }
  },
  {
   "cell_type": "code",
   "execution_count": 44,
   "outputs": [
    {
     "name": "stdout",
     "output_type": "stream",
     "text": [
      "                     Artist   count\n",
      "0                Ed Sheeran  316511\n",
      "1               Post Malone  244109\n",
      "2                 Bad Bunny  186452\n",
      "3             Billie Eilish  177610\n",
      "4                     Ozuna  162109\n",
      "...                     ...     ...\n",
      "16541       Sammie Halliday       1\n",
      "16542            Cardellino       1\n",
      "16543  Caramelos De Cianuro       1\n",
      "16544               Gringod       1\n",
      "16545           SAL Soloman       1\n",
      "\n",
      "[16546 rows x 2 columns]\n"
     ]
    }
   ],
   "source": [
    "# Number of total appearances in set\n",
    "du = frame.groupby('Artist')['track_id'].count()\n",
    "du = du.sort_values(ascending=False).reset_index(name='count')\n",
    "print(du)"
   ],
   "metadata": {
    "collapsed": false,
    "pycharm": {
     "name": "#%%\n"
    }
   }
  },
  {
   "cell_type": "code",
   "execution_count": 47,
   "outputs": [
    {
     "name": "stdout",
     "output_type": "stream",
     "text": [
      "                         Artist         count\n",
      "0                   Post Malone  2.528581e+10\n",
      "1                    Ed Sheeran  1.973495e+10\n",
      "2                         Drake  1.681805e+10\n",
      "3                 Billie Eilish  1.377192e+10\n",
      "4                 Ariana Grande  1.290672e+10\n",
      "...                         ...           ...\n",
      "16541                    Shanon  1.002000e+03\n",
      "16542                    Dossey  1.002000e+03\n",
      "16543  Street Pound Productions  1.001000e+03\n",
      "16544                Kastrācija  1.001000e+03\n",
      "16545                     D-mol  1.001000e+03\n",
      "\n",
      "[16546 rows x 2 columns]\n"
     ]
    }
   ],
   "source": [
    "# Number of total streams in set per artist\n",
    "du = frame.groupby('Artist')['Streams'].agg(\"sum\")\n",
    "du = du.sort_values(ascending=False).reset_index(name='count')\n",
    "print(du)"
   ],
   "metadata": {
    "collapsed": false,
    "pycharm": {
     "name": "#%%\n"
    }
   }
  },
  {
   "cell_type": "code",
   "execution_count": 24,
   "outputs": [
    {
     "name": "stdout",
     "output_type": "stream",
     "text": [
      "82502\n"
     ]
    }
   ],
   "source": [
    "dk = frame.groupby('country')['date'].nunique()\n",
    "dk = dk.sort_values(ascending=False).reset_index(name='count')\n",
    "print(dk['count'].sum())"
   ],
   "metadata": {
    "collapsed": false,
    "pycharm": {
     "name": "#%%\n"
    }
   }
  },
  {
   "cell_type": "code",
   "execution_count": 27,
   "outputs": [
    {
     "name": "stdout",
     "output_type": "stream",
     "text": [
      "4393.90625\n"
     ]
    }
   ],
   "source": [
    "# average of unique tracks per region\n",
    "dk = frame.groupby('country')['track_id'].nunique()\n",
    "dk = dk.sort_values(ascending=False).reset_index(name='count')\n",
    "print(dk[\"count\"].mean())"
   ],
   "metadata": {
    "collapsed": false,
    "pycharm": {
     "name": "#%%\n"
    }
   }
  },
  {
   "cell_type": "code",
   "execution_count": 56,
   "outputs": [
    {
     "ename": "DataError",
     "evalue": "No numeric types to aggregate",
     "output_type": "error",
     "traceback": [
      "\u001B[1;31m---------------------------------------------------------------------------\u001B[0m",
      "\u001B[1;31mDataError\u001B[0m                                 Traceback (most recent call last)",
      "\u001B[1;32m<ipython-input-56-b586d66219ca>\u001B[0m in \u001B[0;36m<module>\u001B[1;34m\u001B[0m\n\u001B[0;32m      1\u001B[0m \u001B[1;31m# average of tracks per region\u001B[0m\u001B[1;33m\u001B[0m\u001B[1;33m\u001B[0m\u001B[1;33m\u001B[0m\u001B[0m\n\u001B[1;32m----> 2\u001B[1;33m \u001B[0mdk\u001B[0m \u001B[1;33m=\u001B[0m \u001B[0mframe\u001B[0m\u001B[1;33m.\u001B[0m\u001B[0mgroupby\u001B[0m\u001B[1;33m(\u001B[0m\u001B[1;34m'country'\u001B[0m\u001B[1;33m)\u001B[0m\u001B[1;33m[\u001B[0m\u001B[1;34m'track_id'\u001B[0m\u001B[1;33m]\u001B[0m\u001B[1;33m.\u001B[0m\u001B[0mmean\u001B[0m\u001B[1;33m(\u001B[0m\u001B[1;33m)\u001B[0m\u001B[1;33m\u001B[0m\u001B[1;33m\u001B[0m\u001B[0m\n\u001B[0m\u001B[0;32m      3\u001B[0m \u001B[0mprint\u001B[0m\u001B[1;33m(\u001B[0m\u001B[0mdk\u001B[0m\u001B[1;33m)\u001B[0m\u001B[1;33m\u001B[0m\u001B[1;33m\u001B[0m\u001B[0m\n\u001B[0;32m      4\u001B[0m \u001B[1;33m\u001B[0m\u001B[0m\n",
      "\u001B[1;32mc:\\users\\sven\\pycharmprojects\\pythonproject\\venv\\lib\\site-packages\\pandas\\core\\groupby\\groupby.py\u001B[0m in \u001B[0;36mmean\u001B[1;34m(self, numeric_only)\u001B[0m\n\u001B[0;32m   1393\u001B[0m         \u001B[0mName\u001B[0m\u001B[1;33m:\u001B[0m \u001B[0mB\u001B[0m\u001B[1;33m,\u001B[0m \u001B[0mdtype\u001B[0m\u001B[1;33m:\u001B[0m \u001B[0mfloat64\u001B[0m\u001B[1;33m\u001B[0m\u001B[1;33m\u001B[0m\u001B[0m\n\u001B[0;32m   1394\u001B[0m         \"\"\"\n\u001B[1;32m-> 1395\u001B[1;33m         return self._cython_agg_general(\n\u001B[0m\u001B[0;32m   1396\u001B[0m             \u001B[1;34m\"mean\"\u001B[0m\u001B[1;33m,\u001B[0m\u001B[1;33m\u001B[0m\u001B[1;33m\u001B[0m\u001B[0m\n\u001B[0;32m   1397\u001B[0m             \u001B[0malt\u001B[0m\u001B[1;33m=\u001B[0m\u001B[1;32mlambda\u001B[0m \u001B[0mx\u001B[0m\u001B[1;33m,\u001B[0m \u001B[0maxis\u001B[0m\u001B[1;33m:\u001B[0m \u001B[0mSeries\u001B[0m\u001B[1;33m(\u001B[0m\u001B[0mx\u001B[0m\u001B[1;33m)\u001B[0m\u001B[1;33m.\u001B[0m\u001B[0mmean\u001B[0m\u001B[1;33m(\u001B[0m\u001B[0mnumeric_only\u001B[0m\u001B[1;33m=\u001B[0m\u001B[0mnumeric_only\u001B[0m\u001B[1;33m)\u001B[0m\u001B[1;33m,\u001B[0m\u001B[1;33m\u001B[0m\u001B[1;33m\u001B[0m\u001B[0m\n",
      "\u001B[1;32mc:\\users\\sven\\pycharmprojects\\pythonproject\\venv\\lib\\site-packages\\pandas\\core\\groupby\\groupby.py\u001B[0m in \u001B[0;36m_cython_agg_general\u001B[1;34m(self, how, alt, numeric_only, min_count)\u001B[0m\n\u001B[0;32m   1051\u001B[0m \u001B[1;33m\u001B[0m\u001B[0m\n\u001B[0;32m   1052\u001B[0m         \u001B[1;32mif\u001B[0m \u001B[0mlen\u001B[0m\u001B[1;33m(\u001B[0m\u001B[0moutput\u001B[0m\u001B[1;33m)\u001B[0m \u001B[1;33m==\u001B[0m \u001B[1;36m0\u001B[0m\u001B[1;33m:\u001B[0m\u001B[1;33m\u001B[0m\u001B[1;33m\u001B[0m\u001B[0m\n\u001B[1;32m-> 1053\u001B[1;33m             \u001B[1;32mraise\u001B[0m \u001B[0mDataError\u001B[0m\u001B[1;33m(\u001B[0m\u001B[1;34m\"No numeric types to aggregate\"\u001B[0m\u001B[1;33m)\u001B[0m\u001B[1;33m\u001B[0m\u001B[1;33m\u001B[0m\u001B[0m\n\u001B[0m\u001B[0;32m   1054\u001B[0m \u001B[1;33m\u001B[0m\u001B[0m\n\u001B[0;32m   1055\u001B[0m         \u001B[1;32mreturn\u001B[0m \u001B[0mself\u001B[0m\u001B[1;33m.\u001B[0m\u001B[0m_wrap_aggregated_output\u001B[0m\u001B[1;33m(\u001B[0m\u001B[0moutput\u001B[0m\u001B[1;33m,\u001B[0m \u001B[0mindex\u001B[0m\u001B[1;33m=\u001B[0m\u001B[0mself\u001B[0m\u001B[1;33m.\u001B[0m\u001B[0mgrouper\u001B[0m\u001B[1;33m.\u001B[0m\u001B[0mresult_index\u001B[0m\u001B[1;33m)\u001B[0m\u001B[1;33m\u001B[0m\u001B[1;33m\u001B[0m\u001B[0m\n",
      "\u001B[1;31mDataError\u001B[0m: No numeric types to aggregate"
     ]
    }
   ],
   "source": [
    "# # average of tracks per region\n",
    "# dk = frame.groupby('country')['track_id'].mean()\n",
    "# dk = dk.sort_values(ascending=False).reset_index(name='count')\n",
    "# print(dk)"
   ],
   "metadata": {
    "collapsed": false,
    "pycharm": {
     "name": "#%%\n"
    }
   }
  },
  {
   "cell_type": "code",
   "execution_count": 31,
   "outputs": [
    {
     "name": "stdout",
     "output_type": "stream",
     "text": [
      "292.0\n"
     ]
    }
   ],
   "source": [
    "# longest track title\n",
    "print(frame[\"Track Name\"].str.len().max())\n"
   ],
   "metadata": {
    "collapsed": false,
    "pycharm": {
     "name": "#%%\n"
    }
   }
  },
  {
   "cell_type": "code",
   "execution_count": 32,
   "outputs": [
    {
     "name": "stdout",
     "output_type": "stream",
     "text": [
      "1.0\n"
     ]
    }
   ],
   "source": [
    "# shortest track title\n",
    "print(frame[\"Track Name\"].str.len().min())"
   ],
   "metadata": {
    "collapsed": false,
    "pycharm": {
     "name": "#%%\n"
    }
   }
  },
  {
   "cell_type": "code",
   "execution_count": 33,
   "outputs": [
    {
     "name": "stdout",
     "output_type": "stream",
     "text": [
      "94.0\n"
     ]
    }
   ],
   "source": [
    "# longest artist name\n",
    "print(frame[\"Artist\"].str.len().max())"
   ],
   "metadata": {
    "collapsed": false,
    "pycharm": {
     "name": "#%%\n"
    }
   }
  },
  {
   "cell_type": "code",
   "execution_count": 34,
   "outputs": [
    {
     "name": "stdout",
     "output_type": "stream",
     "text": [
      "1.0\n"
     ]
    }
   ],
   "source": [
    "# shortest artist name\n",
    "print(frame[\"Artist\"].str.len().min())"
   ],
   "metadata": {
    "collapsed": false,
    "pycharm": {
     "name": "#%%\n"
    }
   }
  },
  {
   "cell_type": "code",
   "execution_count": 40,
   "outputs": [
    {
     "name": "stdout",
     "output_type": "stream",
     "text": [
      "                     track_id  \\\n",
      "0      7qiZfU4dY1lWllzX7mPBI3   \n",
      "1      1rgnBhdG2JDFTbYkYRZAku   \n",
      "2      2Fxmhks0bxGSBdJ92vM42m   \n",
      "3      7qEHsqek33rTcFNT9PFqLf   \n",
      "4      0tgVpDi06FyKpA1z0VMD4v   \n",
      "...                       ...   \n",
      "88053  2krBsQ7lhy9M1PBptJwD39   \n",
      "88054  7EZ0oNr88v5tw7E3mC4eS4   \n",
      "88055  6ShvfmU4urNlBry7O9Vt0t   \n",
      "88056  2A4cayZcOE4pwelUAJxdRq   \n",
      "88057  3xiAusIKlqfnatyzEWzdtS   \n",
      "\n",
      "                                             Track Name  \\\n",
      "0                                          Shape of You   \n",
      "1                                          Dance Monkey   \n",
      "2                                               bad guy   \n",
      "3                                     Someone You Loved   \n",
      "4                                               Perfect   \n",
      "...                                                 ...   \n",
      "88053                                   Jäätunud Jäljed   \n",
      "88054  So Xclusive (feat. K-Slicc, Lo$Ta & Badazz Luck)   \n",
      "88055                       La Guitarra - MTV Unplugged   \n",
      "88056                                                X5   \n",
      "88057                                            Heaven   \n",
      "\n",
      "                          Artist         count  \n",
      "0                     Ed Sheeran  4.819908e+09  \n",
      "1                    Tones And I  3.761266e+09  \n",
      "2                  Billie Eilish  3.082322e+09  \n",
      "3                  Lewis Capaldi  2.703129e+09  \n",
      "4                     Ed Sheeran  2.587439e+09  \n",
      "...                          ...           ...  \n",
      "88053                     Shanon  1.002000e+03  \n",
      "88054   Street Pound Productions  1.001000e+03  \n",
      "88055  Los Auténticos Decadentes  1.001000e+03  \n",
      "88056                 Kastrācija  1.001000e+03  \n",
      "88057                      D-mol  1.001000e+03  \n",
      "\n",
      "[88058 rows x 4 columns]\n"
     ]
    }
   ],
   "source": [
    "# most streamed title over time\n",
    "dk = frame.groupby([\"track_id\", \"Track Name\", \"Artist\"])[\"Streams\"].agg(\"sum\")\n",
    "dk = dk.sort_values(ascending=False).reset_index(name='count')\n",
    "print(dk)"
   ],
   "metadata": {
    "collapsed": false,
    "pycharm": {
     "name": "#%%\n"
    }
   }
  },
  {
   "cell_type": "code",
   "execution_count": 43,
   "outputs": [
    {
     "name": "stdout",
     "output_type": "stream",
     "text": [
      "        Unnamed: 0  Position                       Track Name        Artist  \\\n",
      "5952140     216600       1.0  All I Want for Christmas Is You  Mariah Carey   \n",
      "\n",
      "            Streams                                                URL  \\\n",
      "5952140  12028987.0  https://open.spotify.com/track/0bYg9bo50gSsH3L...   \n",
      "\n",
      "        country        date                track_id  \n",
      "5952140  global  2019-12-24  0bYg9bo50gSsH3LtXe2SQn  \n"
     ]
    }
   ],
   "source": [
    "# shortest artist name\n",
    "print(frame[frame['Streams']==frame['Streams'].max()])"
   ],
   "metadata": {
    "collapsed": false,
    "pycharm": {
     "name": "#%%\n"
    }
   }
  }
 ],
 "metadata": {
  "kernelspec": {
   "display_name": "Python 3",
   "language": "python",
   "name": "python3"
  },
  "language_info": {
   "codemirror_mode": {
    "name": "ipython",
    "version": 2
   },
   "file_extension": ".py",
   "mimetype": "text/x-python",
   "name": "python",
   "nbconvert_exporter": "python",
   "pygments_lexer": "ipython2",
   "version": "2.7.6"
  }
 },
 "nbformat": 4,
 "nbformat_minor": 0
}