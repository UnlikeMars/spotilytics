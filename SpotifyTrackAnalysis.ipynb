{
 "cells": [
  {
   "cell_type": "markdown",
   "source": [
    "Install dependencies"
   ],
   "metadata": {
    "collapsed": false
   }
  },
  {
   "cell_type": "code",
   "execution_count": null,
   "outputs": [],
   "source": [
    "!pip install pandas\n",
    "!pip install spotipy"
   ],
   "metadata": {
    "collapsed": false,
    "pycharm": {
     "name": "#%%\n"
    }
   }
  },
  {
   "cell_type": "markdown",
   "source": [
    "Import requirements"
   ],
   "metadata": {
    "collapsed": false
   }
  },
  {
   "cell_type": "code",
   "execution_count": null,
   "outputs": [],
   "source": [
    "import pandas as pd\n",
    "import spotipy as sp\n",
    "import glob\n",
    "\n",
    "from spotipy.oauth2 import SpotifyClientCredentials"
   ],
   "metadata": {
    "collapsed": false,
    "pycharm": {
     "name": "#%%\n"
    }
   }
  },
  {
   "cell_type": "markdown",
   "source": [
    "Initialize Spotify client"
   ],
   "metadata": {
    "collapsed": false
   }
  },
  {
   "cell_type": "code",
   "execution_count": null,
   "outputs": [],
   "source": [
    "sp_id=\"xxx\"\n",
    "sp_secret=\"xxx\"\n",
    "\n",
    "sp_client = sp.Spotify(auth_manager=SpotifyClientCredentials(client_id=sp_id, client_secret=sp_secret))"
   ],
   "metadata": {
    "collapsed": false,
    "pycharm": {
     "name": "#%%\n"
    }
   }
  },
  {
   "cell_type": "markdown",
   "source": [
    "Function to download track features from the Spotify API"
   ],
   "metadata": {
    "collapsed": false
   }
  },
  {
   "cell_type": "code",
   "execution_count": null,
   "outputs": [],
   "source": [
    "def get_audio_features(track_id: str):\n",
    "    result = sp_client.audio_features(track_id)\n",
    "    if result == [None]:\n",
    "        print(\"{} can't be retrieved\".format(track_id))\n",
    "        return pd.DataFrame() # return empty frame\n",
    "    return pd.DataFrame.from_records(result)\n",
    "\n",
    "def get_audio_analysis(track_id: str):\n",
    "    result = sp_client.audio_analysis(track_id)\n",
    "    if result == [None]:\n",
    "        print(\"{} can't be retrieved\".format(track_id))\n",
    "        return  {}# return empty frame\n",
    "    return result\n",
    "\n"
   ],
   "metadata": {
    "collapsed": false,
    "pycharm": {
     "name": "#%%\n"
    }
   }
  },
  {
   "cell_type": "markdown",
   "source": [
    "Main loop"
   ],
   "metadata": {
    "collapsed": false
   }
  },
  {
   "cell_type": "code",
   "execution_count": null,
   "outputs": [],
   "source": [
    "track_features = pd.read_csv('data/track_features.csv')\n",
    "track_ids = track_features[\"track_id\"].tolist()\n",
    "\n",
    "\n",
    "#unique_track_ids = list(set(track_ids))\n",
    "import json\n",
    "\n",
    "print(\"Downloading {} track analysis sets. This may take some time.\".format(len(track_ids)))\n",
    "counter = 1\n",
    "track_frame = {}\n",
    "failed_requests = []\n",
    "\n",
    "for track_id in track_ids:\n",
    "    filenum = int(counter / 100)\n",
    "    track_dict = {}\n",
    "    #print(\"download: \" + counter + \" of \" + len(track_ids) + \"\\n\")\n",
    "    print(\"download: {} of {}\\n\".format(counter, len(track_ids)))\n",
    "    try:\n",
    "        track_analysis = get_audio_analysis(track_id)\n",
    "    except:\n",
    "        failed_requests.append(track_id)\n",
    "\n",
    "    if track_analysis:\n",
    "        track_dict[track_id] = track_analysis\n",
    "        with open('data/analysis/track_analysis' + str(filenum) + '.json', 'a') as f:\n",
    "            f.write(json.dumps(track_dict))\n",
    "            f.write(',\\n')\n",
    "        counter += 1\n",
    "\n",
    "print(\"failed: \\n\")\n",
    "print(failed_requests)"
   ],
   "metadata": {
    "collapsed": false,
    "pycharm": {
     "name": "#%%\n"
    }
   }
  }
 ],
 "metadata": {
  "kernelspec": {
   "display_name": "Python 3",
   "language": "python",
   "name": "python3"
  },
  "language_info": {
   "codemirror_mode": {
    "name": "ipython",
    "version": 2
   },
   "file_extension": ".py",
   "mimetype": "text/x-python",
   "name": "python",
   "nbconvert_exporter": "python",
   "pygments_lexer": "ipython2",
   "version": "2.7.6"
  }
 },
 "nbformat": 4,
 "nbformat_minor": 0
}