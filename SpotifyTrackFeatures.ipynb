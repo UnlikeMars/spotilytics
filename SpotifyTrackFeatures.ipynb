{
 "cells": [
  {
   "cell_type": "markdown",
   "metadata": {
    "collapsed": true,
    "pycharm": {
     "name": "#%% md\n"
    }
   },
   "source": [
    "Install dependencies"
   ]
  },
  {
   "cell_type": "code",
   "source": [
    "!pip install pandas\n",
    "!pip install spotipy"
   ],
   "metadata": {
    "collapsed": false,
    "pycharm": {
     "name": "#%%\n"
    }
   },
   "execution_count": null,
   "outputs": []
  },
  {
   "cell_type": "markdown",
   "source": [
    "Import requirements"
   ],
   "metadata": {
    "collapsed": false
   }
  },
  {
   "cell_type": "code",
   "source": [
    "import pandas as pd\n",
    "import spotipy as sp\n",
    "import glob\n",
    "\n",
    "from spotipy.oauth2 import SpotifyClientCredentials"
   ],
   "metadata": {
    "collapsed": false,
    "pycharm": {
     "name": "#%%\n"
    }
   },
   "execution_count": null,
   "outputs": []
  },
  {
   "cell_type": "markdown",
   "source": [
    "Initialize Spotify client"
   ],
   "metadata": {
    "collapsed": false,
    "pycharm": {
     "name": "#%% md\n"
    }
   }
  },
  {
   "cell_type": "code",
   "execution_count": 3,
   "outputs": [],
   "source": [
    "sp_id=\"<Insert your id here>\"\n",
    "sp_secret=\"<Insert your secret here>\"\n",
    "\n",
    "sp_client = sp.Spotify(auth_manager=SpotifyClientCredentials(client_id=sp_id, client_secret=sp_secret))"
   ],
   "metadata": {
    "collapsed": false,
    "pycharm": {
     "name": "#%%\n"
    }
   }
  },
  {
   "cell_type": "markdown",
   "source": [
    "Function to download track features from the Spotify API"
   ],
   "metadata": {
    "collapsed": false
   }
  },
  {
   "cell_type": "code",
   "source": [
    "def get_audio_features(track_id: str):\n",
    "    result = sp_client.audio_features(track_id)\n",
    "    if result == [None]:\n",
    "        print(\"{} can't be retrieved\".format(track_id))\n",
    "        return pd.DataFrame() # return empty frame\n",
    "    return pd.DataFrame.from_records(result)"
   ],
   "metadata": {
    "collapsed": false,
    "pycharm": {
     "name": "#%%\n"
    }
   },
   "execution_count": null,
   "outputs": []
  },
  {
   "cell_type": "markdown",
   "source": [
    "Main loop"
   ],
   "metadata": {
    "collapsed": false
   }
  },
  {
   "cell_type": "code",
   "source": [
    "\n",
    "# Read all files in path\n",
    "path = r'data'\n",
    "all_files = glob.glob(path + \"/chart_*.csv\")\n",
    "\n",
    "track_ids = []\n",
    "\n",
    "for filename in all_files:\n",
    "    df = pd.read_csv(filename, index_col=None, header=0)\n",
    "    if df.shape[0] > 0:\n",
    "        track_ids += df[\"track_id\"].unique().tolist()\n",
    "\n",
    "unique_track_ids = list(set(track_ids))\n",
    "\n",
    "print(\"Downloading {} track feature sets. This may take some time.\".format(len(unique_track_ids)))\n",
    "\n",
    "track_frame = pd.DataFrame()\n",
    "for track_id in unique_track_ids:\n",
    "    track_frame = track_frame.append(get_audio_features(track_id))\n",
    "\n",
    "# Move track id to the front and rename\n",
    "track_frame_ids = track_frame[\"id\"]\n",
    "track_frame = track_frame.drop(\"id\", 1)\n",
    "track_frame.insert(0, 'track_id', track_frame_ids)\n",
    "\n",
    "# drop unneeded features\n",
    "track_frame = track_frame.drop(\"type\", 1)\n",
    "track_frame = track_frame.drop(\"uri\", 1)\n",
    "track_frame = track_frame.drop(\"track_href\", 1)\n",
    "track_frame = track_frame.drop(\"analysis_url\", 1)\n",
    "\n",
    "# safe to file\n",
    "track_frame.to_csv(\"data/track_features.csv\", index=False)"
   ],
   "metadata": {
    "collapsed": false,
    "pycharm": {
     "name": "#%%\n"
    }
   },
   "execution_count": null,
   "outputs": []
  }
 ],
 "metadata": {
  "kernelspec": {
   "display_name": "Python 3",
   "language": "python",
   "name": "python3"
  },
  "language_info": {
   "codemirror_mode": {
    "name": "ipython",
    "version": 2
   },
   "file_extension": ".py",
   "mimetype": "text/x-python",
   "name": "python",
   "nbconvert_exporter": "python",
   "pygments_lexer": "ipython2",
   "version": "2.7.6"
  }
 },
 "nbformat": 4,
 "nbformat_minor": 0
}