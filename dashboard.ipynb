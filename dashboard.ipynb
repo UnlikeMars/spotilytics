{
 "cells": [
  {
   "cell_type": "code",
   "execution_count": null,
   "metadata": {
    "collapsed": true
   },
   "outputs": [],
   "source": [
    "import pandas as pd\n",
    "\n",
    "from jupyter_dash import JupyterDash\n",
    "import dash\n",
    "import dash_core_components as dcc\n",
    "import dash_html_components as html\n",
    "from dash.dependencies import Input, Output\n",
    "import plotly.express as px\n",
    "\n",
    "import base64"
   ]
  },
  {
   "cell_type": "code",
   "execution_count": null,
   "outputs": [],
   "source": [
    "\n",
    "\n",
    "newglobalChartDataMonthly = pd.read_csv('mysite/data/newglobalChartDataMonthly.csv')\n",
    "featureHistory = pd.read_csv('mysite/data/feature-history.csv')\n",
    "\n",
    "external_stylesheets = ['https://codepen.io/chriddyp/pen/bWLwgP.css']\n",
    "\n",
    "\n",
    "# comment JupyterDash,  uncomment Dash for Python Anywhere deployment\n",
    "\n",
    "app = JupyterDash(__name__, external_stylesheets=external_stylesheets)\n",
    "#app = dash.Dash(__name__, external_stylesheets=external_stylesheets)\n",
    "server = app.server\n",
    "\n",
    "spotify_params = [\"danceability\",\t\"energy\",\t\"key\", \"loudness\", \"mode\", \"speechiness\", \"acousticness\",\t\"instrumentalness\", \"liveness\", \"valence\", \"tempo\", \"duration_ms\", \"time_signature\"]\n",
    "regions = [\"Asia\",\"North America\", \"South America\", \"Europe\", \"Oceania\"]\n",
    "\n",
    "colorscales = px.colors.named_colorscales()"
   ],
   "metadata": {
    "collapsed": false,
    "pycharm": {
     "name": "#%%\n"
    }
   }
  },
  {
   "cell_type": "code",
   "execution_count": null,
   "outputs": [],
   "source": [
    "app.layout = html.Div([\n",
    "    html.Div([\n",
    "    html.Div([\n",
    "\n",
    "        html.H1(\"World map\"),\n",
    "        html.P(\"Audio feature\"),\n",
    "        dcc.Dropdown(id='var_choice'  , value='danceability'  , options=[{'label': i, 'value': i} for i in  spotify_params]),\n",
    "        html.P(\"Color Scale\"),\n",
    "        dcc.Dropdown(\n",
    "            id='colorscale',\n",
    "            options=[{\"value\": x, \"label\": x}\n",
    "                     for x in colorscales],\n",
    "            value='viridis'\n",
    "        ),\n",
    "        dcc.Graph(id='my-graph'),\n",
    "\n",
    "    ], className=\"eight columns\"),\n",
    "    html.Div([\n",
    "\n",
    "        html.H1(\"Feature Durchschnitt\"),\n",
    "        html.P(\"Audio feature\"),\n",
    "        dcc.Dropdown(id='var_choice2'  , value='danceability'  , options=[{'label': i, 'value': i} for i in  spotify_params]),\n",
    "        html.P(\"Region\"),\n",
    "        dcc.Dropdown(\n",
    "            id='region',\n",
    "            options=[{\"value\": x, \"label\": x}\n",
    "                     for x in regions],\n",
    "            value='Europe'\n",
    "        ),\n",
    "        dcc.Graph(id='my-graph2'),\n",
    "\n",
    "        html.H1(\"Feature Trend\"),\n",
    "        dcc.Dropdown(id='var_choice3'  , value='danceability'  , options=[{'label': i, 'value': i} for i in  spotify_params]),\n",
    "        html.Img(id='my-img1'),\n",
    "        #html.Img(src='data:image/png;base64,{}'.format(encoded_image)),\n",
    "\n",
    "    ], className=\"three columns\"),\n",
    "#, style={'width': '30%', 'display': 'inline-block'}\n",
    "], className=\"row\")\n",
    "\n",
    "\n",
    "\n",
    "])#, style={'columnCount': 2})\n",
    "\n",
    "@app.callback(     Output('my-graph'        , 'figure'    ) ,\n",
    "                  [Input(\"colorscale\", \"value\"), Input('var_choice'       , 'value'     )] )\n",
    "def update_figure(scale, var_choice):\n",
    "\n",
    "\n",
    "    fig = px.choropleth(newglobalChartDataMonthly, locations=\"country\",\n",
    "                    locationmode=\"country names\",\n",
    "                    color=newglobalChartDataMonthly[var_choice],\n",
    "                    animation_frame=newglobalChartDataMonthly[\"date\"],\n",
    "color_continuous_scale=scale,\n",
    "                 width=1400, height=800)\n",
    "\n",
    "    return fig\n",
    "\n",
    "@app.callback(     Output('my-graph2'        , 'figure'    ) ,\n",
    "                  [Input(\"region\", \"value\"), Input('var_choice2'       , 'value'     )] )\n",
    "def update_figure(region, var_choice2):\n",
    "\n",
    "\n",
    "    data = featureHistory[(featureHistory['feature'] == var_choice2) & (featureHistory['region'] == region)]\n",
    "    fig = px.bar(data, x='year', y='value')\n",
    "\n",
    "\n",
    "    return fig\n",
    "\n",
    "@app.callback(     Output('my-img1'        , 'src'    ) ,\n",
    "                  [Input('var_choice3'       , 'value'     )] )\n",
    "def update_figure(var_choice3):\n",
    "\n",
    "\n",
    "    image_filename = 'mysite/data/RegionPng/' + var_choice3 + '.png'\n",
    "    encoded_image = base64.b64encode(open(image_filename, 'rb').read())\n",
    "    return 'data:image/png;base64,{}'.format(encoded_image.decode())"
   ],
   "metadata": {
    "collapsed": false,
    "pycharm": {
     "name": "#%%\n"
    }
   }
  },
  {
   "cell_type": "code",
   "execution_count": null,
   "outputs": [],
   "source": [
    "# comment for Python Anywhere deployyment\n",
    "app.run_server(port=8050)"
   ],
   "metadata": {
    "collapsed": false,
    "pycharm": {
     "name": "#%%\n"
    }
   }
  },
  {
   "cell_type": "code",
   "execution_count": null,
   "outputs": [],
   "source": [],
   "metadata": {
    "collapsed": false,
    "pycharm": {
     "name": "#%%\n"
    }
   }
  }
 ],
 "metadata": {
  "kernelspec": {
   "display_name": "Python 3",
   "language": "python",
   "name": "python3"
  },
  "language_info": {
   "codemirror_mode": {
    "name": "ipython",
    "version": 2
   },
   "file_extension": ".py",
   "mimetype": "text/x-python",
   "name": "python",
   "nbconvert_exporter": "python",
   "pygments_lexer": "ipython2",
   "version": "2.7.6"
  }
 },
 "nbformat": 4,
 "nbformat_minor": 0
}