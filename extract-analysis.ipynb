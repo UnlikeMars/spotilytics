{
 "cells": [
  {
   "cell_type": "markdown",
   "source": [
    "Install dependencies"
   ],
   "metadata": {
    "collapsed": false
   }
  },
  {
   "cell_type": "code",
   "execution_count": null,
   "outputs": [],
   "source": [
    "!pip install pandas"
   ],
   "metadata": {
    "collapsed": false,
    "pycharm": {
     "name": "#%%\n"
    }
   }
  },
  {
   "cell_type": "markdown",
   "source": [
    "Import requirements"
   ],
   "metadata": {
    "collapsed": false
   }
  },
  {
   "cell_type": "code",
   "execution_count": null,
   "outputs": [],
   "source": [
    "import os\n",
    "import pandas as pd\n",
    "import glob\n",
    "import json\n",
    "# Read all files in path\n",
    "path = r'data'\n",
    "all_files = glob.glob(path + \"/analysis/track_analysis*.json\")\n"
   ],
   "metadata": {
    "collapsed": false,
    "pycharm": {
     "name": "#%%\n"
    }
   }
  },
  {
   "cell_type": "code",
   "execution_count": null,
   "outputs": [],
   "source": [
    "output_path = 'data/track_analysis-sections.csv'\n",
    "\n",
    "counter = 1\n",
    "for filename in all_files:\n",
    "    frame = pd.DataFrame()\n",
    "    with open(filename, 'r') as f:\n",
    "        for line in f:\n",
    "            dict_obj = json.loads(line.replace(',\\n','\\n'))\n",
    "            b = list(dict_obj.values())[0]['sections']\n",
    "            tempFrame = pd.DataFrame.from_dict(b)\n",
    "            tempFrame.insert(loc=0, column='track_id', value=list(dict_obj.keys())[0])\n",
    "            tempFrame.insert(loc=1, column='num_section', value=tempFrame.index)\n",
    "            frame = frame.append(tempFrame, ignore_index='True')\n",
    "    frame.to_csv(output_path, mode='a', header=not os.path.exists(output_path), index=False)\n",
    "    print('file {} of {}'.format(counter, len(all_files)))\n",
    "    counter += 1\n",
    "\n",
    "\n",
    "frame.to_csv('data/track_analysis-sections.csv')\n",
    "\n",
    "#------------------\n",
    "\n",
    "output_path = 'data/track_analysis-segments.csv'\n",
    "\n",
    "counter = 1\n",
    "for filename in all_files:\n",
    "    frame = pd.DataFrame()\n",
    "    with open(filename, 'r') as f:\n",
    "        for line in f:\n",
    "            dict_obj = json.loads(line.replace(',\\n','\\n'))\n",
    "            b = list(dict_obj.values())[0]['segments']\n",
    "            tempFrame = pd.DataFrame.from_dict(b)\n",
    "            tempFrame.insert(loc=0, column='track_id', value=list(dict_obj.keys())[0])\n",
    "            tempFrame.insert(loc=1, column='num_segment', value=tempFrame.index)\n",
    "            frame = frame.append(tempFrame, ignore_index='True')\n",
    "    frame.to_csv(output_path, mode='a', header=not os.path.exists(output_path), index=False)\n",
    "    print('file {} of {}'.format(counter, len(all_files)))\n",
    "    counter += 1\n",
    "\n",
    "\n",
    "frame.to_csv('data/track_analysis-segments.csv')"
   ],
   "metadata": {
    "collapsed": false,
    "pycharm": {
     "name": "#%%\n"
    }
   }
  }
 ],
 "metadata": {
  "kernelspec": {
   "display_name": "Python 3",
   "language": "python",
   "name": "python3"
  },
  "language_info": {
   "codemirror_mode": {
    "name": "ipython",
    "version": 2
   },
   "file_extension": ".py",
   "mimetype": "text/x-python",
   "name": "python",
   "nbconvert_exporter": "python",
   "pygments_lexer": "ipython2",
   "version": "2.7.6"
  }
 },
 "nbformat": 4,
 "nbformat_minor": 0
}