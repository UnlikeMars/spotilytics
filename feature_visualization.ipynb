{
  "nbformat": 4,
  "nbformat_minor": 0,
  "metadata": {
    "colab": {
      "name": "feature-visualization.ipynb",
      "provenance": []
    },
    "kernelspec": {
      "name": "python3",
      "display_name": "Python 3"
    }
  },
  "cells": [
    {
      "cell_type": "markdown",
      "metadata": {
        "id": "UUVrxVLl3wmH"
      },
      "source": [
        "# Imports\n",
        "\n"
      ]
    },
    {
      "cell_type": "code",
      "metadata": {
        "id": "7gqlXCB8UdUK"
      },
      "source": [
        "!pip install pandas\n",
        "!pip install numpy\n",
        "!pip install jupyter-dash\n",
        "!pip install matplotlib\n",
        "\n",
        "import pandas as pd\n",
        "import numpy as np\n",
        "import matplotlib.pyplot as plt\n",
        "\n",
        "from jupyter_dash import JupyterDash\n",
        "import dash\n",
        "import dash_core_components as dcc\n",
        "import dash_html_components as html"
      ],
      "execution_count": null,
      "outputs": []
    },
    {
      "cell_type": "code",
      "metadata": {
        "id": "oa8TE8YfU8Mt"
      },
      "source": [
        "# only used for Google Drive integration\n",
        "''' \n",
        "\n",
        "from google.colab import drive\n",
        "drive.mount('/content/drive')\n",
        "\n",
        "'''"
      ],
      "execution_count": null,
      "outputs": []
    },
    {
      "cell_type": "markdown",
      "metadata": {
        "id": "BnniQ2N83de_"
      },
      "source": [
        "# Paths"
      ]
    },
    {
      "cell_type": "code",
      "metadata": {
        "id": "8W1LxBGoVEpp"
      },
      "source": [
        "chartData = pd.read_csv('drive/MyDrive/Spotify/chart_de.csv')\n",
        "chartDataGlobal = pd.read_csv('drive/MyDrive/Spotify/chart_global.csv')\n",
        "chartDataIt = pd.read_csv('drive/MyDrive/Spotify/chart_it.csv')"
      ],
      "execution_count": 124,
      "outputs": []
    },
    {
      "cell_type": "code",
      "metadata": {
        "id": "ZiSpWMaNVXYB"
      },
      "source": [
        "featureData = pd.read_csv('drive/MyDrive/Spotify/track_features.csv')"
      ],
      "execution_count": null,
      "outputs": []
    },
    {
      "cell_type": "markdown",
      "metadata": {
        "id": "Z-uex_cn3hRu"
      },
      "source": [
        "# Merging"
      ]
    },
    {
      "cell_type": "code",
      "metadata": {
        "id": "V-9weEDhaPrg"
      },
      "source": [
        "nd = chartData.merge(featureData, left_on='track_id', right_on='track_id')\n",
        "ndGlobal = chartDataGlobal.merge(featureData, left_on='track_id', right_on='track_id')\n",
        "ndIt = chartDataIt.merge(featureData, left_on='track_id', right_on='track_id')"
      ],
      "execution_count": 125,
      "outputs": []
    },
    {
      "cell_type": "code",
      "metadata": {
        "id": "p8VHK3AzajYU"
      },
      "source": [
        "# print(nd)"
      ],
      "execution_count": null,
      "outputs": []
    },
    {
      "cell_type": "code",
      "metadata": {
        "id": "lqO-zrKpbLjV"
      },
      "source": [
        "ndmean = nd.groupby('date').mean()\n",
        "ndmeanGlobal = ndGlobal.groupby('date').mean()\n",
        "ndmeanIt = ndIt.groupby('date').mean()"
      ],
      "execution_count": 126,
      "outputs": []
    },
    {
      "cell_type": "markdown",
      "metadata": {
        "id": "e-8ekGPj3ka-"
      },
      "source": [
        "# Vis with Pandas"
      ]
    },
    {
      "cell_type": "code",
      "metadata": {
        "id": "3_fnVDE-cgV3"
      },
      "source": [
        "# visualization with pandas\n",
        "'''\n",
        "\n",
        "ndmean.plot(y='duration_ms', figsize=(15,5))\n",
        "ndmean.plot(y='key', figsize=(15,5))\n",
        "ndmean.plot(y='mode', figsize=(15,5))\n",
        "ndmean.plot(y='time_signature', figsize=(15,5))\n",
        "ndmean.plot(y='acousticness', figsize=(15,5))\n",
        "ndmean.plot(y='danceability', figsize=(15,5))\n",
        "ndmean.plot(y='energy', figsize=(15,5))\n",
        "ndmean.plot(y='instrumentalness', figsize=(15,5))\n",
        "ndmean.plot(y='liveness', figsize=(15,5))\n",
        "ndmean.plot(y='loudness', figsize=(15,5))\n",
        "ndmean.plot(y='speechiness', figsize=(15,5))\n",
        "ndmean.plot(y='valence', figsize=(15,5))\n",
        "ndmean.plot(y='tempo', figsize=(15,5))\n",
        "\n",
        "'''\n"
      ],
      "execution_count": null,
      "outputs": []
    },
    {
      "cell_type": "markdown",
      "metadata": {
        "id": "oN89Kp-z3Shj"
      },
      "source": [
        "# Plotly Dash playground"
      ]
    },
    {
      "cell_type": "code",
      "metadata": {
        "id": "FDGiI2bjg5ZR"
      },
      "source": [
        "\n",
        "'''\n",
        "\n",
        "external_stylesheets = ['https://codepen.io/chriddyp/pen/bWLwgP.css']\n",
        "\n",
        "app = JupyterDash(__name__, external_stylesheets=external_stylesheets)\n",
        "\n",
        "# Create server variable with Flask server object for use with gunicorn\n",
        "server = app.server\n",
        "\n",
        "app.layout = html.Div(children=[\n",
        "    html.H1(children='Hello Dash'),\n",
        "\n",
        "    html.Div(children=\"Dash: A web application framework for Python.\"),\n",
        "\n",
        "    dcc.Graph(\n",
        "        id='example-graph',\n",
        "        figure={\n",
        "            'data': [\n",
        "                {'y': ndmean['energy'].values.tolist(), 'type': 'bar', 'name': 'energy'},\n",
        "            ],\n",
        "            'layout': {\n",
        "                'title': 'Energy Visualization'\n",
        "            }\n",
        "        }\n",
        "    ),\n",
        "\n",
        "    dcc.Graph(\n",
        "        id='example-graph',\n",
        "        figure={\n",
        "            'data': [\n",
        "                {'y': ndmean['tempo'].values.tolist(), 'type': 'bar', 'name': 'tempo'},\n",
        "            ],\n",
        "            'layout': {\n",
        "                'title': 'Tempo Visualization'\n",
        "            }\n",
        "        }\n",
        "    ),\n",
        "\n",
        "    dcc.Graph(\n",
        "        id='example-graph',\n",
        "        figure={\n",
        "            'data': [\n",
        "                {'y': ndmean['valence'].values.tolist(), 'type': 'bar', 'name': 'valence'},\n",
        "            ],\n",
        "            'layout': {\n",
        "                'title': 'Valence Visualization'\n",
        "            }\n",
        "        }\n",
        "    )\n",
        "])\n",
        "\n",
        "app.run_server(debug=True, port=8052)\n",
        "\n",
        "'''"
      ],
      "execution_count": 65,
      "outputs": []
    },
    {
      "cell_type": "markdown",
      "metadata": {
        "id": "muvL04A43Z1h"
      },
      "source": [
        "# Vis with Plotly"
      ]
    },
    {
      "cell_type": "code",
      "metadata": {
        "id": "y4SVff13VzfW"
      },
      "source": [
        "\n",
        "import plotly.express as px\n",
        "\n",
        "fig1 = px.line(ndmean, x=ndmeanGlobal.index, y=ndmeanGlobal.duration_ms)\n",
        "fig1.show()\n",
        "\n",
        "fig11 = px.line(ndmean, x=ndmean.index, y=ndmean.duration_ms)\n",
        "fig11.show()\n"
      ],
      "execution_count": null,
      "outputs": []
    },
    {
      "cell_type": "code",
      "metadata": {
        "id": "JcfmedEuacX6"
      },
      "source": [
        "fig2 = px.line(ndmean, x=ndmean.index, y=ndmean.key)\n",
        "fig2.show()"
      ],
      "execution_count": null,
      "outputs": []
    },
    {
      "cell_type": "code",
      "metadata": {
        "id": "o_8c7DPRajxO"
      },
      "source": [
        "# broken?!\n",
        "\n",
        "#fig3 = px.line(ndmean, x=ndmean.index, y=ndmean.mode)\n",
        "#fig3.show()"
      ],
      "execution_count": 81,
      "outputs": []
    },
    {
      "cell_type": "code",
      "metadata": {
        "id": "q50ZIVoWaj6l"
      },
      "source": [
        "fig4 = px.line(ndmean, x=ndmean.index, y=ndmean.time_signature)\n",
        "fig4.show()"
      ],
      "execution_count": null,
      "outputs": []
    },
    {
      "cell_type": "code",
      "metadata": {
        "id": "1ohrxqzYaj_g"
      },
      "source": [
        "fig5 = px.line(ndmean, x=ndmean.index, y=ndmean.acousticness)\n",
        "fig5.show()"
      ],
      "execution_count": null,
      "outputs": []
    },
    {
      "cell_type": "code",
      "metadata": {
        "id": "uZyImWITakCY"
      },
      "source": [
        "fig6 = px.line(ndmean, x=ndmean.index, y=ndmean.danceability)\n",
        "fig6.show()\n",
        "\n",
        "fig61 = px.line(ndmeanGlobal, x=ndmeanGlobal.index, y=ndmeanGlobal.danceability)\n",
        "fig61.show()"
      ],
      "execution_count": null,
      "outputs": []
    },
    {
      "cell_type": "code",
      "metadata": {
        "id": "tTN2PMBkakEx"
      },
      "source": [
        "fig7 = px.line(ndmeanGlobal, x=ndmeanGlobal.index, y=ndmeanGlobal.energy)\n",
        "fig7.show()\n",
        "\n",
        "fig7 = px.line(ndmean, x=ndmean.index, y=ndmean.energy)\n",
        "fig7.show()"
      ],
      "execution_count": null,
      "outputs": []
    },
    {
      "cell_type": "code",
      "metadata": {
        "id": "pul6P7noakHR"
      },
      "source": [
        "fig8 = px.line(ndmean, x=ndmean.index, y=ndmean.instrumentalness)\n",
        "fig8.show()"
      ],
      "execution_count": null,
      "outputs": []
    },
    {
      "cell_type": "code",
      "metadata": {
        "id": "q39JcU3sakJW"
      },
      "source": [
        "fig9 = px.line(ndmean, x=ndmean.index, y=ndmean.liveness)\n",
        "fig9.show()"
      ],
      "execution_count": null,
      "outputs": []
    },
    {
      "cell_type": "code",
      "metadata": {
        "id": "6H3DbDZ0akLy"
      },
      "source": [
        "fig10 = px.line(ndmean, x=ndmean.index, y=ndmean.loudness)\n",
        "fig10.show()"
      ],
      "execution_count": null,
      "outputs": []
    },
    {
      "cell_type": "code",
      "metadata": {
        "id": "HkZqabIiakNp"
      },
      "source": [
        "fig11 = px.line(ndmean, x=ndmean.index, y=ndmean.speechiness)\n",
        "fig11.show()"
      ],
      "execution_count": null,
      "outputs": []
    },
    {
      "cell_type": "code",
      "metadata": {
        "id": "LXgTly7OakPx"
      },
      "source": [
        "fig12 = px.line(ndmeanGlobal, x=ndmeanGlobal.index, y=ndmeanGlobal.valence)\n",
        "fig12.show()\n",
        "\n",
        "fig12 = px.line(ndmean, x=ndmean.index, y=ndmean.valence)\n",
        "fig12.show()\n",
        "\n",
        "fig12 = px.line(ndmeanIt, x=ndmeanIt.index, y=ndmeanIt.valence)\n",
        "fig12.show()"
      ],
      "execution_count": null,
      "outputs": []
    },
    {
      "cell_type": "code",
      "metadata": {
        "id": "hfLOxwGna30D"
      },
      "source": [
        "fig13 = px.line(ndmeanGlobal, x=ndmeanGlobal.index, y=ndmeanGlobal.tempo)\n",
        "fig13.show()\n",
        "\n",
        "fig13 = px.line(ndmean, x=ndmean.index, y=ndmean.tempo)\n",
        "fig13.show()\n",
        "\n"
      ],
      "execution_count": null,
      "outputs": []
    }
  ]
}