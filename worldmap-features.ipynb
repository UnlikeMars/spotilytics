{
 "cells": [
  {
   "cell_type": "markdown",
   "metadata": {},
   "source": [
    "# Imports\n",
    "\n"
   ]
  },
  {
   "cell_type": "code",
   "execution_count": null,
   "metadata": {
    "pycharm": {
     "name": "#%%\n"
    }
   },
   "outputs": [],
   "source": [
    "from IPython.core.display import display\n",
    "!pip install pandas\n",
    "!pip install numpy\n",
    "!pip install jupyter-dash\n",
    "!pip install matplotlib\n",
    "!pip install plotly\n",
    "\n",
    "import pandas as pd\n",
    "import os.path\n"
   ]
  },
  {
   "cell_type": "markdown",
   "metadata": {},
   "source": [
    "Load track features"
   ]
  },
  {
   "cell_type": "code",
   "execution_count": null,
   "metadata": {
    "pycharm": {
     "name": "#%%\n"
    }
   },
   "outputs": [],
   "source": [
    "featureData = pd.read_csv('data/track_features.csv')"
   ]
  },
  {
   "cell_type": "markdown",
   "metadata": {},
   "source": [
    "Function to import data by region group"
   ]
  },
  {
   "cell_type": "code",
   "execution_count": null,
   "metadata": {
    "pycharm": {
     "name": "#%%\n"
    }
   },
   "outputs": [],
   "source": [
    "def load_charts_for_codes(codes):\n",
    "    temp_df = pd.DataFrame()\n",
    "    for code in codes[\"code\"]:\n",
    "        if os.path.isfile(\"data/chart_{}.csv\".format(code.lower())):\n",
    "            temp_df = temp_df.append(pd.read_csv(\"data/chart_{}.csv\".format(code.lower())))\n",
    "    return temp_df"
   ]
  },
  {
   "cell_type": "markdown",
   "metadata": {},
   "source": [
    "Load regional chart data"
   ]
  },
  {
   "cell_type": "code",
   "execution_count": null,
   "metadata": {
    "pycharm": {
     "name": "#%%\n"
    }
   },
   "outputs": [],
   "source": [
    "#Europe\n",
    "codes = pd.read_csv(\"data/EuropeCode.csv\")\n",
    "chartDataEurope = load_charts_for_codes(codes)\n",
    "\n",
    "#Asia\n",
    "codes = pd.read_csv('data/AsiaCode.csv')\n",
    "chartDataAsia = load_charts_for_codes(codes)\n",
    "\n",
    "#NorthAmerica\n",
    "codes = pd.read_csv('data/NorthAmericaCode.csv')\n",
    "chartDataNorthAmerica = load_charts_for_codes(codes)\n",
    "\n",
    "#SouthAmerica\n",
    "codes = pd.read_csv('data/SouthAmericaCode.csv')\n",
    "chartDataSouthAmerica = load_charts_for_codes(codes)\n",
    "\n",
    "#Africa\n",
    "codes = pd.read_csv('data/AfricaCode.csv')\n",
    "chartDataAfrica = load_charts_for_codes(codes)\n",
    "\n",
    "#Oceania\n",
    "codes = pd.read_csv('data/OcianiaCode.csv')\n",
    "chartDataOceania = load_charts_for_codes(codes)"
   ]
  },
  {
   "cell_type": "markdown",
   "source": [
    "Append to create a global chart dataframe"
   ],
   "metadata": {
    "collapsed": false
   }
  },
  {
   "cell_type": "code",
   "execution_count": null,
   "outputs": [],
   "source": [
    "globalChartData = chartDataEurope\n",
    "globalChartData = globalChartData.append(chartDataAsia)\n",
    "globalChartData = globalChartData.append(chartDataNorthAmerica)\n",
    "globalChartData = globalChartData.append(chartDataSouthAmerica)\n",
    "globalChartData = globalChartData.append(chartDataAfrica)\n",
    "globalChartData = globalChartData.append(chartDataOceania)"
   ],
   "metadata": {
    "collapsed": false,
    "pycharm": {
     "name": "#%%\n"
    }
   }
  },
  {
   "cell_type": "markdown",
   "source": [
    "Filter for one datapoint per month, because a global, daily map will cause performance issues in cloropleth map\n",
    "\n",
    "Monthly or bi-weekly groupby/mean might be better"
   ],
   "metadata": {
    "collapsed": false
   }
  },
  {
   "cell_type": "code",
   "source": [
    "globalChartDataMonthly = globalChartData[globalChartData.date.str.endswith(\"01\")]\n"
   ],
   "metadata": {
    "collapsed": false,
    "pycharm": {
     "name": "#%%\n"
    }
   },
   "execution_count": null,
   "outputs": []
  },
  {
   "cell_type": "markdown",
   "metadata": {},
   "source": [
    "# Merging"
   ]
  },
  {
   "cell_type": "markdown",
   "metadata": {},
   "source": [
    "## prepare data of countries"
   ]
  },
  {
   "cell_type": "markdown",
   "metadata": {},
   "source": [
    "Function to join chart tracks and track features"
   ]
  },
  {
   "cell_type": "code",
   "execution_count": null,
   "metadata": {
    "pycharm": {
     "name": "#%%\n"
    }
   },
   "outputs": [],
   "source": [
    "def join_chart_features_regions(chart):\n",
    "    info = chart.merge(featureData, left_on='track_id', right_on='track_id')\n",
    "    info = info.groupby(['country', 'date'], as_index=False).mean()\n",
    "    return info\n",
    "\n",
    "\n",
    "def join_chart_features_continents(chart):\n",
    "    info = chart.merge(featureData, left_on='track_id', right_on='track_id')\n",
    "    info = info.groupby('date', as_index=False).mean()\n",
    "    return info"
   ]
  },
  {
   "cell_type": "markdown",
   "metadata": {},
   "source": [
    "Create monthly chart dataframe with features of all spotify regions"
   ]
  },
  {
   "cell_type": "code",
   "execution_count": null,
   "metadata": {
    "pycharm": {
     "name": "#%%\n"
    }
   },
   "outputs": [],
   "source": [
    "newglobalChartDataMonthly = join_chart_features_regions(globalChartDataMonthly)"
   ]
  },
  {
   "cell_type": "markdown",
   "source": [
    "Replace country codes with full country name, needed by Dash cloropleth map"
   ],
   "metadata": {
    "collapsed": false
   }
  },
  {
   "cell_type": "code",
   "execution_count": null,
   "metadata": {
    "pycharm": {
     "name": "#%%\n"
    },
    "scrolled": true
   },
   "outputs": [],
   "source": [
    "import csv\n",
    "\n",
    "def createCountryCodeDict(file):\n",
    "    with open(file, mode='r') as infile:\n",
    "        next(infile) #skip first line (name,code,)\n",
    "        reader = csv.reader(infile)\n",
    "        dict = {rows[1].lower():rows[0] for rows in reader}\n",
    "        return dict\n",
    "\n",
    "countryCodeNameDict = createCountryCodeDict(\"data/AfricaCode.csv\")\n",
    "countryCodeNameDict.update(createCountryCodeDict(\"data/AsiaCode.csv\"))\n",
    "countryCodeNameDict.update(createCountryCodeDict(\"data/EuropeCode.csv\"))\n",
    "countryCodeNameDict.update(createCountryCodeDict(\"data/NorthAmericaCode.csv\"))\n",
    "countryCodeNameDict.update(createCountryCodeDict(\"data/SouthAmericaCode.csv\"))\n",
    "countryCodeNameDict.update(createCountryCodeDict(\"data/OcianiaCode.csv\"))\n",
    "\n",
    "\n",
    "for key, value in countryCodeNameDict.items():\n",
    "    newglobalChartDataMonthly['country'] = newglobalChartDataMonthly['country'].replace([key],value)\n",
    "\n",
    "#newglobalChartDataMonthly.to_csv('data/newglobalChartDataMonthly.csv')"
   ]
  },
  {
   "cell_type": "markdown",
   "source": [
    "# Create Plotly Dash web app"
   ],
   "metadata": {
    "collapsed": false
   }
  },
  {
   "cell_type": "code",
   "execution_count": null,
   "metadata": {
    "pycharm": {
     "name": "#%%\n"
    }
   },
   "outputs": [],
   "source": [
    "from jupyter_dash import JupyterDash\n",
    "import dash_core_components as dcc\n",
    "import dash_html_components as html\n",
    "from dash.dependencies import Input, Output\n",
    "import plotly.express as px\n",
    "\n",
    "#newglobalChartDataMonthly = pd.read_csv('data/newglobalChartDataMonthly.csv')\n",
    "\n",
    "external_stylesheets = ['https://codepen.io/chriddyp/pen/bWLwgP.css']\n",
    "\n",
    "app = JupyterDash(__name__, external_stylesheets=external_stylesheets)\n",
    "server = app.server\n",
    "\n",
    "spotify_params = [\"danceability\",\t\"energy\",\t\"key\", \"loudness\", \"mode\", \"speechiness\", \"acousticness\",\t\"instrumentalness\", \"liveness\", \"valence\", \"tempo\", \"duration_ms\", \"time_signature\"]\n",
    "colorscales = px.colors.named_colorscales()\n",
    "\n",
    "app.layout = html.Div([\n",
    "    html.P(\"Audio feature\"),\n",
    "    dcc.Dropdown(id='var_choice'  , value='danceability'  , options=[{'label': i, 'value': i} for i in  spotify_params]),\n",
    "    html.P(\"Color Scale\"),\n",
    "    dcc.Dropdown(\n",
    "        id='colorscale',\n",
    "        options=[{\"value\": x, \"label\": x}\n",
    "                 for x in colorscales],\n",
    "        value='viridis'\n",
    "    ),\n",
    "    dcc.Graph(id='my-graph'),\n",
    "])\n",
    "\n",
    "@app.callback(     Output('my-graph'        , 'figure'    ) ,\n",
    "                  [Input(\"colorscale\", \"value\"), Input('var_choice'       , 'value'     )] )\n",
    "def update_figure(scale, var_choice):\n",
    "\n",
    "\n",
    "    fig = px.choropleth(newglobalChartDataMonthly, locations=\"country\",\n",
    "                    locationmode=\"country names\",\n",
    "                    color=newglobalChartDataMonthly[var_choice],\n",
    "                    animation_frame=newglobalChartDataMonthly[\"date\"],\n",
    "color_continuous_scale=scale,\n",
    "                 width=1400, height=800)\n",
    "\n",
    "    return fig\n",
    "\n",
    "if __name__ == '__main__':\n",
    "    app.run_server(port=8056, debug=True  )"
   ]
  },
  {
   "cell_type": "code",
   "execution_count": null,
   "outputs": [],
   "source": [],
   "metadata": {
    "collapsed": false,
    "pycharm": {
     "name": "#%%\n"
    }
   }
  }
 ],
 "metadata": {
  "kernelspec": {
   "display_name": "Python 3",
   "language": "python",
   "name": "python3"
  },
  "language_info": {
   "codemirror_mode": {
    "name": "ipython",
    "version": 3
   },
   "file_extension": ".py",
   "mimetype": "text/x-python",
   "name": "python",
   "nbconvert_exporter": "python",
   "pygments_lexer": "ipython3",
   "version": "3.8.5"
  }
 },
 "nbformat": 4,
 "nbformat_minor": 1
}